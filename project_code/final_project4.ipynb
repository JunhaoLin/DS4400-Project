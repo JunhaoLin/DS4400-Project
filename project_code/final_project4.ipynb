{
 "cells": [
  {
   "cell_type": "markdown",
   "metadata": {},
   "source": [
    "# DS4400 Final Project\n",
    "### Instructor: Ehsan Elhamifar\n",
    "### Team member: Junhao Lin, Minghua Zhang, Mengting Tang"
   ]
  },
  {
   "cell_type": "markdown",
   "metadata": {},
   "source": [
    "## Data Representation"
   ]
  },
  {
   "cell_type": "code",
   "execution_count": 1,
   "metadata": {},
   "outputs": [],
   "source": [
    "#Import libraries\n",
    "#Reading the data, using pandas\n",
    "\n",
    "import pandas as pd\n",
    "import numpy as np\n",
    "import matplotlib.pyplot as plt\n",
    "import seaborn as sns\n",
    "%matplotlib inline"
   ]
  },
  {
   "cell_type": "code",
   "execution_count": 2,
   "metadata": {},
   "outputs": [],
   "source": [
    "from torch.utils.data import Dataset\n",
    "\n",
    "# Create a dataset class preparing for NN \n",
    "class dataset(Dataset):\n",
    "  def __init__(self,x,y):\n",
    "    self.x = torch.tensor(x,dtype=torch.float32)\n",
    "    self.y = torch.tensor(y,dtype=torch.float32)\n",
    "    self.length = self.x.shape[0]\n",
    " \n",
    "  def __getitem__(self,idx):\n",
    "    return self.x[idx],self.y[idx]\n",
    "    \n",
    "  def __len__(self):\n",
    "    return self.length"
   ]
  },
  {
   "cell_type": "code",
   "execution_count": 3,
   "metadata": {},
   "outputs": [],
   "source": [
    "names = ['ID', 'Age', 'Gender', 'Education', 'Country', 'Ethnicity', 'Neuroticism', 'Extraversion', 'Openness', 'Agreeableness', 'Conscientiousness', 'Impulsiveness', 'Sensation_seeking', 'Alcohol', 'Amphetamine', 'Amyl_nitrite', 'Benzodiazepine', 'Caffeine', 'Cannabis', 'Chocolate', 'Cocaine', 'Crack', 'Ecstasy', 'Heroin', 'Ketamine', 'Legal_highs', 'LSD', 'Methadone', 'Mushrooms', 'Nicotine', 'Semeron', 'VSA']\n",
    "data = pd.read_csv(\"drug_consumption.data\",header = None, names = names)"
   ]
  },
  {
   "cell_type": "code",
   "execution_count": 4,
   "metadata": {},
   "outputs": [
    {
     "data": {
      "text/html": [
       "<div>\n",
       "<style scoped>\n",
       "    .dataframe tbody tr th:only-of-type {\n",
       "        vertical-align: middle;\n",
       "    }\n",
       "\n",
       "    .dataframe tbody tr th {\n",
       "        vertical-align: top;\n",
       "    }\n",
       "\n",
       "    .dataframe thead th {\n",
       "        text-align: right;\n",
       "    }\n",
       "</style>\n",
       "<table border=\"1\" class=\"dataframe\">\n",
       "  <thead>\n",
       "    <tr style=\"text-align: right;\">\n",
       "      <th></th>\n",
       "      <th>Age</th>\n",
       "      <th>Gender</th>\n",
       "      <th>Education</th>\n",
       "      <th>Country</th>\n",
       "      <th>Ethnicity</th>\n",
       "      <th>Neuroticism</th>\n",
       "      <th>Extraversion</th>\n",
       "      <th>Openness</th>\n",
       "      <th>Agreeableness</th>\n",
       "      <th>Conscientiousness</th>\n",
       "      <th>...</th>\n",
       "      <th>Ecstasy</th>\n",
       "      <th>Heroin</th>\n",
       "      <th>Ketamine</th>\n",
       "      <th>Legal_highs</th>\n",
       "      <th>LSD</th>\n",
       "      <th>Methadone</th>\n",
       "      <th>Mushrooms</th>\n",
       "      <th>Nicotine</th>\n",
       "      <th>Semeron</th>\n",
       "      <th>VSA</th>\n",
       "    </tr>\n",
       "    <tr>\n",
       "      <th>ID</th>\n",
       "      <th></th>\n",
       "      <th></th>\n",
       "      <th></th>\n",
       "      <th></th>\n",
       "      <th></th>\n",
       "      <th></th>\n",
       "      <th></th>\n",
       "      <th></th>\n",
       "      <th></th>\n",
       "      <th></th>\n",
       "      <th></th>\n",
       "      <th></th>\n",
       "      <th></th>\n",
       "      <th></th>\n",
       "      <th></th>\n",
       "      <th></th>\n",
       "      <th></th>\n",
       "      <th></th>\n",
       "      <th></th>\n",
       "      <th></th>\n",
       "      <th></th>\n",
       "    </tr>\n",
       "  </thead>\n",
       "  <tbody>\n",
       "    <tr>\n",
       "      <th>1879</th>\n",
       "      <td>-0.95197</td>\n",
       "      <td>-0.48246</td>\n",
       "      <td>-0.61113</td>\n",
       "      <td>-0.57009</td>\n",
       "      <td>0.12600</td>\n",
       "      <td>-0.05188</td>\n",
       "      <td>-1.76250</td>\n",
       "      <td>0.58331</td>\n",
       "      <td>-0.76096</td>\n",
       "      <td>-0.14277</td>\n",
       "      <td>...</td>\n",
       "      <td>CL5</td>\n",
       "      <td>CL0</td>\n",
       "      <td>CL0</td>\n",
       "      <td>CL2</td>\n",
       "      <td>CL4</td>\n",
       "      <td>CL0</td>\n",
       "      <td>CL4</td>\n",
       "      <td>CL6</td>\n",
       "      <td>CL0</td>\n",
       "      <td>CL2</td>\n",
       "    </tr>\n",
       "    <tr>\n",
       "      <th>1880</th>\n",
       "      <td>-0.07854</td>\n",
       "      <td>-0.48246</td>\n",
       "      <td>-0.61113</td>\n",
       "      <td>0.24923</td>\n",
       "      <td>0.11440</td>\n",
       "      <td>-0.14882</td>\n",
       "      <td>-0.57545</td>\n",
       "      <td>1.43533</td>\n",
       "      <td>-0.91699</td>\n",
       "      <td>-0.78155</td>\n",
       "      <td>...</td>\n",
       "      <td>CL3</td>\n",
       "      <td>CL0</td>\n",
       "      <td>CL3</td>\n",
       "      <td>CL5</td>\n",
       "      <td>CL3</td>\n",
       "      <td>CL0</td>\n",
       "      <td>CL4</td>\n",
       "      <td>CL2</td>\n",
       "      <td>CL0</td>\n",
       "      <td>CL2</td>\n",
       "    </tr>\n",
       "    <tr>\n",
       "      <th>1881</th>\n",
       "      <td>-0.95197</td>\n",
       "      <td>-0.48246</td>\n",
       "      <td>-1.43719</td>\n",
       "      <td>-0.57009</td>\n",
       "      <td>-0.31685</td>\n",
       "      <td>1.49158</td>\n",
       "      <td>-1.92173</td>\n",
       "      <td>-0.58331</td>\n",
       "      <td>-1.77200</td>\n",
       "      <td>0.58489</td>\n",
       "      <td>...</td>\n",
       "      <td>CL2</td>\n",
       "      <td>CL5</td>\n",
       "      <td>CL0</td>\n",
       "      <td>CL2</td>\n",
       "      <td>CL0</td>\n",
       "      <td>CL6</td>\n",
       "      <td>CL0</td>\n",
       "      <td>CL6</td>\n",
       "      <td>CL0</td>\n",
       "      <td>CL2</td>\n",
       "    </tr>\n",
       "    <tr>\n",
       "      <th>1882</th>\n",
       "      <td>-0.95197</td>\n",
       "      <td>-0.48246</td>\n",
       "      <td>0.45468</td>\n",
       "      <td>0.24923</td>\n",
       "      <td>-0.31685</td>\n",
       "      <td>-0.05188</td>\n",
       "      <td>-1.76250</td>\n",
       "      <td>0.88309</td>\n",
       "      <td>-0.76096</td>\n",
       "      <td>2.33337</td>\n",
       "      <td>...</td>\n",
       "      <td>CL0</td>\n",
       "      <td>CL0</td>\n",
       "      <td>CL0</td>\n",
       "      <td>CL2</td>\n",
       "      <td>CL0</td>\n",
       "      <td>CL0</td>\n",
       "      <td>CL2</td>\n",
       "      <td>CL2</td>\n",
       "      <td>CL0</td>\n",
       "      <td>CL0</td>\n",
       "    </tr>\n",
       "    <tr>\n",
       "      <th>1883</th>\n",
       "      <td>-0.95197</td>\n",
       "      <td>-0.48246</td>\n",
       "      <td>-0.61113</td>\n",
       "      <td>-0.28519</td>\n",
       "      <td>-0.31685</td>\n",
       "      <td>-0.79151</td>\n",
       "      <td>0.32197</td>\n",
       "      <td>0.29338</td>\n",
       "      <td>-0.30172</td>\n",
       "      <td>-0.27607</td>\n",
       "      <td>...</td>\n",
       "      <td>CL5</td>\n",
       "      <td>CL2</td>\n",
       "      <td>CL0</td>\n",
       "      <td>CL4</td>\n",
       "      <td>CL5</td>\n",
       "      <td>CL4</td>\n",
       "      <td>CL0</td>\n",
       "      <td>CL6</td>\n",
       "      <td>CL0</td>\n",
       "      <td>CL1</td>\n",
       "    </tr>\n",
       "    <tr>\n",
       "      <th>1884</th>\n",
       "      <td>-0.95197</td>\n",
       "      <td>0.48246</td>\n",
       "      <td>-0.61113</td>\n",
       "      <td>-0.57009</td>\n",
       "      <td>-0.31685</td>\n",
       "      <td>-1.19430</td>\n",
       "      <td>1.74091</td>\n",
       "      <td>1.88511</td>\n",
       "      <td>0.76096</td>\n",
       "      <td>-1.13788</td>\n",
       "      <td>...</td>\n",
       "      <td>CL0</td>\n",
       "      <td>CL0</td>\n",
       "      <td>CL0</td>\n",
       "      <td>CL3</td>\n",
       "      <td>CL3</td>\n",
       "      <td>CL0</td>\n",
       "      <td>CL0</td>\n",
       "      <td>CL0</td>\n",
       "      <td>CL0</td>\n",
       "      <td>CL5</td>\n",
       "    </tr>\n",
       "    <tr>\n",
       "      <th>1885</th>\n",
       "      <td>-0.95197</td>\n",
       "      <td>-0.48246</td>\n",
       "      <td>-0.61113</td>\n",
       "      <td>-0.57009</td>\n",
       "      <td>-0.31685</td>\n",
       "      <td>-0.24649</td>\n",
       "      <td>1.74091</td>\n",
       "      <td>0.58331</td>\n",
       "      <td>0.76096</td>\n",
       "      <td>-1.51840</td>\n",
       "      <td>...</td>\n",
       "      <td>CL2</td>\n",
       "      <td>CL0</td>\n",
       "      <td>CL0</td>\n",
       "      <td>CL3</td>\n",
       "      <td>CL5</td>\n",
       "      <td>CL4</td>\n",
       "      <td>CL4</td>\n",
       "      <td>CL5</td>\n",
       "      <td>CL0</td>\n",
       "      <td>CL0</td>\n",
       "    </tr>\n",
       "    <tr>\n",
       "      <th>1886</th>\n",
       "      <td>-0.07854</td>\n",
       "      <td>0.48246</td>\n",
       "      <td>0.45468</td>\n",
       "      <td>-0.57009</td>\n",
       "      <td>-0.31685</td>\n",
       "      <td>1.13281</td>\n",
       "      <td>-1.37639</td>\n",
       "      <td>-1.27553</td>\n",
       "      <td>-1.77200</td>\n",
       "      <td>-1.38502</td>\n",
       "      <td>...</td>\n",
       "      <td>CL4</td>\n",
       "      <td>CL0</td>\n",
       "      <td>CL2</td>\n",
       "      <td>CL0</td>\n",
       "      <td>CL2</td>\n",
       "      <td>CL0</td>\n",
       "      <td>CL2</td>\n",
       "      <td>CL6</td>\n",
       "      <td>CL0</td>\n",
       "      <td>CL0</td>\n",
       "    </tr>\n",
       "    <tr>\n",
       "      <th>1887</th>\n",
       "      <td>-0.95197</td>\n",
       "      <td>0.48246</td>\n",
       "      <td>-0.61113</td>\n",
       "      <td>-0.57009</td>\n",
       "      <td>-0.31685</td>\n",
       "      <td>0.91093</td>\n",
       "      <td>-1.92173</td>\n",
       "      <td>0.29338</td>\n",
       "      <td>-1.62090</td>\n",
       "      <td>-2.57309</td>\n",
       "      <td>...</td>\n",
       "      <td>CL3</td>\n",
       "      <td>CL0</td>\n",
       "      <td>CL0</td>\n",
       "      <td>CL3</td>\n",
       "      <td>CL3</td>\n",
       "      <td>CL0</td>\n",
       "      <td>CL3</td>\n",
       "      <td>CL4</td>\n",
       "      <td>CL0</td>\n",
       "      <td>CL0</td>\n",
       "    </tr>\n",
       "    <tr>\n",
       "      <th>1888</th>\n",
       "      <td>-0.95197</td>\n",
       "      <td>-0.48246</td>\n",
       "      <td>-0.61113</td>\n",
       "      <td>0.21128</td>\n",
       "      <td>-0.31685</td>\n",
       "      <td>-0.46725</td>\n",
       "      <td>2.12700</td>\n",
       "      <td>1.65653</td>\n",
       "      <td>1.11406</td>\n",
       "      <td>0.41594</td>\n",
       "      <td>...</td>\n",
       "      <td>CL3</td>\n",
       "      <td>CL0</td>\n",
       "      <td>CL0</td>\n",
       "      <td>CL3</td>\n",
       "      <td>CL3</td>\n",
       "      <td>CL0</td>\n",
       "      <td>CL3</td>\n",
       "      <td>CL6</td>\n",
       "      <td>CL0</td>\n",
       "      <td>CL2</td>\n",
       "    </tr>\n",
       "  </tbody>\n",
       "</table>\n",
       "<p>10 rows × 31 columns</p>\n",
       "</div>"
      ],
      "text/plain": [
       "          Age   Gender  Education  Country  Ethnicity  Neuroticism  \\\n",
       "ID                                                                   \n",
       "1879 -0.95197 -0.48246   -0.61113 -0.57009    0.12600     -0.05188   \n",
       "1880 -0.07854 -0.48246   -0.61113  0.24923    0.11440     -0.14882   \n",
       "1881 -0.95197 -0.48246   -1.43719 -0.57009   -0.31685      1.49158   \n",
       "1882 -0.95197 -0.48246    0.45468  0.24923   -0.31685     -0.05188   \n",
       "1883 -0.95197 -0.48246   -0.61113 -0.28519   -0.31685     -0.79151   \n",
       "1884 -0.95197  0.48246   -0.61113 -0.57009   -0.31685     -1.19430   \n",
       "1885 -0.95197 -0.48246   -0.61113 -0.57009   -0.31685     -0.24649   \n",
       "1886 -0.07854  0.48246    0.45468 -0.57009   -0.31685      1.13281   \n",
       "1887 -0.95197  0.48246   -0.61113 -0.57009   -0.31685      0.91093   \n",
       "1888 -0.95197 -0.48246   -0.61113  0.21128   -0.31685     -0.46725   \n",
       "\n",
       "      Extraversion  Openness  Agreeableness  Conscientiousness  ...  Ecstasy  \\\n",
       "ID                                                              ...            \n",
       "1879      -1.76250   0.58331       -0.76096           -0.14277  ...      CL5   \n",
       "1880      -0.57545   1.43533       -0.91699           -0.78155  ...      CL3   \n",
       "1881      -1.92173  -0.58331       -1.77200            0.58489  ...      CL2   \n",
       "1882      -1.76250   0.88309       -0.76096            2.33337  ...      CL0   \n",
       "1883       0.32197   0.29338       -0.30172           -0.27607  ...      CL5   \n",
       "1884       1.74091   1.88511        0.76096           -1.13788  ...      CL0   \n",
       "1885       1.74091   0.58331        0.76096           -1.51840  ...      CL2   \n",
       "1886      -1.37639  -1.27553       -1.77200           -1.38502  ...      CL4   \n",
       "1887      -1.92173   0.29338       -1.62090           -2.57309  ...      CL3   \n",
       "1888       2.12700   1.65653        1.11406            0.41594  ...      CL3   \n",
       "\n",
       "      Heroin Ketamine Legal_highs  LSD Methadone Mushrooms Nicotine Semeron  \\\n",
       "ID                                                                            \n",
       "1879     CL0      CL0         CL2  CL4       CL0       CL4      CL6     CL0   \n",
       "1880     CL0      CL3         CL5  CL3       CL0       CL4      CL2     CL0   \n",
       "1881     CL5      CL0         CL2  CL0       CL6       CL0      CL6     CL0   \n",
       "1882     CL0      CL0         CL2  CL0       CL0       CL2      CL2     CL0   \n",
       "1883     CL2      CL0         CL4  CL5       CL4       CL0      CL6     CL0   \n",
       "1884     CL0      CL0         CL3  CL3       CL0       CL0      CL0     CL0   \n",
       "1885     CL0      CL0         CL3  CL5       CL4       CL4      CL5     CL0   \n",
       "1886     CL0      CL2         CL0  CL2       CL0       CL2      CL6     CL0   \n",
       "1887     CL0      CL0         CL3  CL3       CL0       CL3      CL4     CL0   \n",
       "1888     CL0      CL0         CL3  CL3       CL0       CL3      CL6     CL0   \n",
       "\n",
       "      VSA  \n",
       "ID         \n",
       "1879  CL2  \n",
       "1880  CL2  \n",
       "1881  CL2  \n",
       "1882  CL0  \n",
       "1883  CL1  \n",
       "1884  CL5  \n",
       "1885  CL0  \n",
       "1886  CL0  \n",
       "1887  CL0  \n",
       "1888  CL2  \n",
       "\n",
       "[10 rows x 31 columns]"
      ]
     },
     "execution_count": 4,
     "metadata": {},
     "output_type": "execute_result"
    }
   ],
   "source": [
    "#set the 'ID' as the index of the data \n",
    "data.set_index('ID', inplace = True)\n",
    "data.tail(10)"
   ]
  },
  {
   "cell_type": "markdown",
   "metadata": {},
   "source": [
    "## Data Pre-processing & Decoding \n",
    "### The age, gender, education, country, and ethnicity columns in the data have been encoded when we extracted them.\n",
    "### In order to put them in use, we have to decode them according to the information provided by the orginal dataset. "
   ]
  },
  {
   "cell_type": "code",
   "execution_count": 5,
   "metadata": {},
   "outputs": [],
   "source": [
    "#We also need to convert the digits of these values into five decimal places since the orginal ones' is float64 \n",
    "#If we kept float64, the comparsion would not work \n",
    "\n",
    "for term in ['Age', 'Gender', 'Education', 'Country', 'Ethnicity', 'Neuroticism',\n",
    "       'Extraversion', 'Openness', 'Agreeableness', 'Conscientiousness',\n",
    "       'Impulsiveness', 'Sensation_seeking']:\n",
    "    for value in data[term]:\n",
    "        value = '{:.5f}'.format(value)\n",
    "\n"
   ]
  },
  {
   "cell_type": "code",
   "execution_count": 6,
   "metadata": {},
   "outputs": [],
   "source": [
    "#decoding the age \n",
    "\n",
    "def decodeAge(age) -> int:\n",
    "    \"\"\"We need to convert age into reasonable and intuitive catagories:\n",
    "        - 0: 18-24\n",
    "        - 1: 25-34\n",
    "        - 2: 35-44\n",
    "        - 3: 45-54\n",
    "        - 4: 55-64\n",
    "        - 5: 65+\n",
    "    \"\"\"\n",
    "    if (age == -0.95197):\n",
    "        age = 0\n",
    "    elif (age == -0.07854):\n",
    "        age = 1\n",
    "    elif (age == 0.49788):\n",
    "        age = 2\n",
    "    elif (age == 1.09449):\n",
    "        age = 3\n",
    "    elif (age == 1.82213):\n",
    "        age = 4\n",
    "    elif (age == 2.59171):\n",
    "        age = 5\n",
    "    return age\n",
    "\n",
    "data['Age'] = data['Age'].map(decodeAge)"
   ]
  },
  {
   "cell_type": "code",
   "execution_count": 7,
   "metadata": {},
   "outputs": [],
   "source": [
    "#decoding the gender\n",
    "def decodeGender(gender) -> int:\n",
    "    \"\"\"Transform gender into understandable format\n",
    "        - 0: Male\n",
    "        - 1: Female\n",
    "    \"\"\"\n",
    "    if (gender == 0.48246):\n",
    "        gender = 1\n",
    "    elif (gender == -0.48246 ):\n",
    "        gender = 0\n",
    "    return gender\n",
    "\n",
    "data['Gender'] = data['Gender'].map(decodeGender)"
   ]
  },
  {
   "cell_type": "code",
   "execution_count": 8,
   "metadata": {},
   "outputs": [],
   "source": [
    "#decoding the education \n",
    "def decodeEducation(edu) -> int:\n",
    "    \"\"\"Transform education level into understandable format\n",
    "        - 0: Left school before 16 years\n",
    "        - 1: Left school at 16 years\n",
    "        - 2: Left school at 17 years\n",
    "        - 3: Left school at 18 years \n",
    "        - 4: Some college or university, no certificate or degree \n",
    "        - 5: Professional certificate/ diploma   \n",
    "        - 6: University degree \n",
    "        - 7: Masters degree \n",
    "        - 8: Doctorate degree\n",
    "\n",
    "    \"\"\"\n",
    "    if (edu == -2.43591):\n",
    "        edu = 0\n",
    "    elif (edu == -1.73790):\n",
    "        edu = 1\n",
    "    elif (edu == -1.43719):\n",
    "        edu = 2\n",
    "    elif (edu == -1.22751):\n",
    "        edu = 3\n",
    "    elif (edu == -0.61113):\n",
    "        edu = 4\n",
    "    elif (edu == -0.05921):\n",
    "        edu = 5\n",
    "    elif (edu == 0.45468):\n",
    "        edu = 6\n",
    "    elif (edu == 1.16365):\n",
    "        edu = 7\n",
    "    elif (edu == 1.98437):\n",
    "        edu = 8\n",
    "    return edu\n",
    "\n",
    "data['Education'] = data['Education'].map(decodeEducation)"
   ]
  },
  {
   "cell_type": "code",
   "execution_count": 9,
   "metadata": {},
   "outputs": [],
   "source": [
    "#decode the country\n",
    "def decodeCountry(country): \n",
    "    \"\"\"Transform country of origin into understandable format\n",
    "        - 0: Australia\n",
    "        - 1: Canada\n",
    "        - 2: New Zealand\n",
    "        - 3: Other\n",
    "        - 4: Republic of Ireland\n",
    "        - 5: UK\n",
    "        - 6: USA\n",
    "    \"\"\" \n",
    "    if (country == -0.09765):\n",
    "        country = 0\n",
    "    elif (country == 0.24923):\n",
    "        country = 1\n",
    "    elif (country == -0.46841):\n",
    "        country= 2\n",
    "    elif (country == -0.28519):\n",
    "        country = 3\n",
    "    elif (country == 0.21128):\n",
    "        country = 4\n",
    "    elif (country == 0.96082):\n",
    "        country = 5\n",
    "    elif (country == -0.57009):\n",
    "        country = 6\n",
    "    return country\n",
    "\n",
    "data['Country'] = data['Country'].map(decodeCountry)"
   ]
  },
  {
   "cell_type": "code",
   "execution_count": 10,
   "metadata": {},
   "outputs": [],
   "source": [
    "#decode the enthnicity\n",
    "def decodeEthnicity(eth):\n",
    "    \"\"\"Decode ethnicities into understandable catagories\n",
    "        - 0: Asian\n",
    "        - 1: Black\n",
    "        - 2: Mixed-Black/Asian\n",
    "        - 3: Mixed-White/Asian\n",
    "        - 4: Mixed-White/Black \n",
    "        - 5: Other\n",
    "        - 6: White\n",
    "    \"\"\"\n",
    "    if (eth == -0.50212):\n",
    "        eth = 0\n",
    "    elif (eth == -1.10702):\n",
    "        eth = 1\n",
    "    elif (eth == 1.90725):\n",
    "        eth = 2\n",
    "    elif (eth == 0.12600):\n",
    "        eth = 3\n",
    "    elif (eth == -0.22166):\n",
    "        eth = 4\n",
    "    elif (eth == 0.11440):\n",
    "        eth = 5\n",
    "    elif (eth == -0.31685):\n",
    "        eth = 6\n",
    "    return eth\n",
    "\n",
    "data['Ethnicity'] = data['Ethnicity'].map(decodeEthnicity)"
   ]
  },
  {
   "cell_type": "code",
   "execution_count": 11,
   "metadata": {},
   "outputs": [
    {
     "data": {
      "text/html": [
       "<div>\n",
       "<style scoped>\n",
       "    .dataframe tbody tr th:only-of-type {\n",
       "        vertical-align: middle;\n",
       "    }\n",
       "\n",
       "    .dataframe tbody tr th {\n",
       "        vertical-align: top;\n",
       "    }\n",
       "\n",
       "    .dataframe thead th {\n",
       "        text-align: right;\n",
       "    }\n",
       "</style>\n",
       "<table border=\"1\" class=\"dataframe\">\n",
       "  <thead>\n",
       "    <tr style=\"text-align: right;\">\n",
       "      <th></th>\n",
       "      <th>Age</th>\n",
       "      <th>Gender</th>\n",
       "      <th>Education</th>\n",
       "      <th>Country</th>\n",
       "      <th>Ethnicity</th>\n",
       "      <th>Neuroticism</th>\n",
       "      <th>Extraversion</th>\n",
       "      <th>Openness</th>\n",
       "      <th>Agreeableness</th>\n",
       "      <th>Conscientiousness</th>\n",
       "      <th>...</th>\n",
       "      <th>Ecstasy</th>\n",
       "      <th>Heroin</th>\n",
       "      <th>Ketamine</th>\n",
       "      <th>Legal_highs</th>\n",
       "      <th>LSD</th>\n",
       "      <th>Methadone</th>\n",
       "      <th>Mushrooms</th>\n",
       "      <th>Nicotine</th>\n",
       "      <th>Semeron</th>\n",
       "      <th>VSA</th>\n",
       "    </tr>\n",
       "    <tr>\n",
       "      <th>ID</th>\n",
       "      <th></th>\n",
       "      <th></th>\n",
       "      <th></th>\n",
       "      <th></th>\n",
       "      <th></th>\n",
       "      <th></th>\n",
       "      <th></th>\n",
       "      <th></th>\n",
       "      <th></th>\n",
       "      <th></th>\n",
       "      <th></th>\n",
       "      <th></th>\n",
       "      <th></th>\n",
       "      <th></th>\n",
       "      <th></th>\n",
       "      <th></th>\n",
       "      <th></th>\n",
       "      <th></th>\n",
       "      <th></th>\n",
       "      <th></th>\n",
       "      <th></th>\n",
       "    </tr>\n",
       "  </thead>\n",
       "  <tbody>\n",
       "    <tr>\n",
       "      <th>1</th>\n",
       "      <td>0.49788</td>\n",
       "      <td>0.48246</td>\n",
       "      <td>-0.05921</td>\n",
       "      <td>0.96082</td>\n",
       "      <td>3.0</td>\n",
       "      <td>0.31287</td>\n",
       "      <td>-0.57545</td>\n",
       "      <td>-0.58331</td>\n",
       "      <td>-0.91699</td>\n",
       "      <td>-0.00665</td>\n",
       "      <td>...</td>\n",
       "      <td>CL0</td>\n",
       "      <td>CL0</td>\n",
       "      <td>CL0</td>\n",
       "      <td>CL0</td>\n",
       "      <td>CL0</td>\n",
       "      <td>CL0</td>\n",
       "      <td>CL0</td>\n",
       "      <td>CL2</td>\n",
       "      <td>CL0</td>\n",
       "      <td>CL0</td>\n",
       "    </tr>\n",
       "    <tr>\n",
       "      <th>2</th>\n",
       "      <td>1.00000</td>\n",
       "      <td>-0.48246</td>\n",
       "      <td>8.00000</td>\n",
       "      <td>0.96082</td>\n",
       "      <td>6.0</td>\n",
       "      <td>-0.67825</td>\n",
       "      <td>1.93886</td>\n",
       "      <td>1.43533</td>\n",
       "      <td>0.76096</td>\n",
       "      <td>-0.14277</td>\n",
       "      <td>...</td>\n",
       "      <td>CL4</td>\n",
       "      <td>CL0</td>\n",
       "      <td>CL2</td>\n",
       "      <td>CL0</td>\n",
       "      <td>CL2</td>\n",
       "      <td>CL3</td>\n",
       "      <td>CL0</td>\n",
       "      <td>CL4</td>\n",
       "      <td>CL0</td>\n",
       "      <td>CL0</td>\n",
       "    </tr>\n",
       "    <tr>\n",
       "      <th>3</th>\n",
       "      <td>0.49788</td>\n",
       "      <td>-0.48246</td>\n",
       "      <td>-0.05921</td>\n",
       "      <td>0.96082</td>\n",
       "      <td>6.0</td>\n",
       "      <td>-0.46725</td>\n",
       "      <td>0.80523</td>\n",
       "      <td>-0.84732</td>\n",
       "      <td>-1.62090</td>\n",
       "      <td>-1.01450</td>\n",
       "      <td>...</td>\n",
       "      <td>CL0</td>\n",
       "      <td>CL0</td>\n",
       "      <td>CL0</td>\n",
       "      <td>CL0</td>\n",
       "      <td>CL0</td>\n",
       "      <td>CL0</td>\n",
       "      <td>CL1</td>\n",
       "      <td>CL0</td>\n",
       "      <td>CL0</td>\n",
       "      <td>CL0</td>\n",
       "    </tr>\n",
       "    <tr>\n",
       "      <th>4</th>\n",
       "      <td>-0.95197</td>\n",
       "      <td>0.48246</td>\n",
       "      <td>7.00000</td>\n",
       "      <td>0.96082</td>\n",
       "      <td>6.0</td>\n",
       "      <td>-0.14882</td>\n",
       "      <td>-0.80615</td>\n",
       "      <td>-0.01928</td>\n",
       "      <td>0.59042</td>\n",
       "      <td>0.58489</td>\n",
       "      <td>...</td>\n",
       "      <td>CL0</td>\n",
       "      <td>CL0</td>\n",
       "      <td>CL2</td>\n",
       "      <td>CL0</td>\n",
       "      <td>CL0</td>\n",
       "      <td>CL0</td>\n",
       "      <td>CL0</td>\n",
       "      <td>CL2</td>\n",
       "      <td>CL0</td>\n",
       "      <td>CL0</td>\n",
       "    </tr>\n",
       "    <tr>\n",
       "      <th>5</th>\n",
       "      <td>0.49788</td>\n",
       "      <td>0.48246</td>\n",
       "      <td>8.00000</td>\n",
       "      <td>0.96082</td>\n",
       "      <td>6.0</td>\n",
       "      <td>0.73545</td>\n",
       "      <td>-1.63340</td>\n",
       "      <td>-0.45174</td>\n",
       "      <td>-0.30172</td>\n",
       "      <td>1.30612</td>\n",
       "      <td>...</td>\n",
       "      <td>CL1</td>\n",
       "      <td>CL0</td>\n",
       "      <td>CL0</td>\n",
       "      <td>CL1</td>\n",
       "      <td>CL0</td>\n",
       "      <td>CL0</td>\n",
       "      <td>CL2</td>\n",
       "      <td>CL2</td>\n",
       "      <td>CL0</td>\n",
       "      <td>CL0</td>\n",
       "    </tr>\n",
       "    <tr>\n",
       "      <th>...</th>\n",
       "      <td>...</td>\n",
       "      <td>...</td>\n",
       "      <td>...</td>\n",
       "      <td>...</td>\n",
       "      <td>...</td>\n",
       "      <td>...</td>\n",
       "      <td>...</td>\n",
       "      <td>...</td>\n",
       "      <td>...</td>\n",
       "      <td>...</td>\n",
       "      <td>...</td>\n",
       "      <td>...</td>\n",
       "      <td>...</td>\n",
       "      <td>...</td>\n",
       "      <td>...</td>\n",
       "      <td>...</td>\n",
       "      <td>...</td>\n",
       "      <td>...</td>\n",
       "      <td>...</td>\n",
       "      <td>...</td>\n",
       "      <td>...</td>\n",
       "    </tr>\n",
       "    <tr>\n",
       "      <th>1884</th>\n",
       "      <td>-0.95197</td>\n",
       "      <td>0.48246</td>\n",
       "      <td>-0.61113</td>\n",
       "      <td>6.00000</td>\n",
       "      <td>6.0</td>\n",
       "      <td>-1.19430</td>\n",
       "      <td>1.74091</td>\n",
       "      <td>1.88511</td>\n",
       "      <td>0.76096</td>\n",
       "      <td>-1.13788</td>\n",
       "      <td>...</td>\n",
       "      <td>CL0</td>\n",
       "      <td>CL0</td>\n",
       "      <td>CL0</td>\n",
       "      <td>CL3</td>\n",
       "      <td>CL3</td>\n",
       "      <td>CL0</td>\n",
       "      <td>CL0</td>\n",
       "      <td>CL0</td>\n",
       "      <td>CL0</td>\n",
       "      <td>CL5</td>\n",
       "    </tr>\n",
       "    <tr>\n",
       "      <th>1885</th>\n",
       "      <td>-0.95197</td>\n",
       "      <td>-0.48246</td>\n",
       "      <td>-0.61113</td>\n",
       "      <td>6.00000</td>\n",
       "      <td>6.0</td>\n",
       "      <td>-0.24649</td>\n",
       "      <td>1.74091</td>\n",
       "      <td>0.58331</td>\n",
       "      <td>0.76096</td>\n",
       "      <td>-1.51840</td>\n",
       "      <td>...</td>\n",
       "      <td>CL2</td>\n",
       "      <td>CL0</td>\n",
       "      <td>CL0</td>\n",
       "      <td>CL3</td>\n",
       "      <td>CL5</td>\n",
       "      <td>CL4</td>\n",
       "      <td>CL4</td>\n",
       "      <td>CL5</td>\n",
       "      <td>CL0</td>\n",
       "      <td>CL0</td>\n",
       "    </tr>\n",
       "    <tr>\n",
       "      <th>1886</th>\n",
       "      <td>1.00000</td>\n",
       "      <td>0.48246</td>\n",
       "      <td>0.45468</td>\n",
       "      <td>6.00000</td>\n",
       "      <td>6.0</td>\n",
       "      <td>1.13281</td>\n",
       "      <td>-1.37639</td>\n",
       "      <td>-1.27553</td>\n",
       "      <td>-1.77200</td>\n",
       "      <td>-1.38502</td>\n",
       "      <td>...</td>\n",
       "      <td>CL4</td>\n",
       "      <td>CL0</td>\n",
       "      <td>CL2</td>\n",
       "      <td>CL0</td>\n",
       "      <td>CL2</td>\n",
       "      <td>CL0</td>\n",
       "      <td>CL2</td>\n",
       "      <td>CL6</td>\n",
       "      <td>CL0</td>\n",
       "      <td>CL0</td>\n",
       "    </tr>\n",
       "    <tr>\n",
       "      <th>1887</th>\n",
       "      <td>-0.95197</td>\n",
       "      <td>0.48246</td>\n",
       "      <td>-0.61113</td>\n",
       "      <td>6.00000</td>\n",
       "      <td>6.0</td>\n",
       "      <td>0.91093</td>\n",
       "      <td>-1.92173</td>\n",
       "      <td>0.29338</td>\n",
       "      <td>-1.62090</td>\n",
       "      <td>-2.57309</td>\n",
       "      <td>...</td>\n",
       "      <td>CL3</td>\n",
       "      <td>CL0</td>\n",
       "      <td>CL0</td>\n",
       "      <td>CL3</td>\n",
       "      <td>CL3</td>\n",
       "      <td>CL0</td>\n",
       "      <td>CL3</td>\n",
       "      <td>CL4</td>\n",
       "      <td>CL0</td>\n",
       "      <td>CL0</td>\n",
       "    </tr>\n",
       "    <tr>\n",
       "      <th>1888</th>\n",
       "      <td>-0.95197</td>\n",
       "      <td>-0.48246</td>\n",
       "      <td>-0.61113</td>\n",
       "      <td>0.21128</td>\n",
       "      <td>6.0</td>\n",
       "      <td>-0.46725</td>\n",
       "      <td>2.12700</td>\n",
       "      <td>1.65653</td>\n",
       "      <td>1.11406</td>\n",
       "      <td>0.41594</td>\n",
       "      <td>...</td>\n",
       "      <td>CL3</td>\n",
       "      <td>CL0</td>\n",
       "      <td>CL0</td>\n",
       "      <td>CL3</td>\n",
       "      <td>CL3</td>\n",
       "      <td>CL0</td>\n",
       "      <td>CL3</td>\n",
       "      <td>CL6</td>\n",
       "      <td>CL0</td>\n",
       "      <td>CL2</td>\n",
       "    </tr>\n",
       "  </tbody>\n",
       "</table>\n",
       "<p>1885 rows × 31 columns</p>\n",
       "</div>"
      ],
      "text/plain": [
       "          Age   Gender  Education  Country  Ethnicity  Neuroticism  \\\n",
       "ID                                                                   \n",
       "1     0.49788  0.48246   -0.05921  0.96082        3.0      0.31287   \n",
       "2     1.00000 -0.48246    8.00000  0.96082        6.0     -0.67825   \n",
       "3     0.49788 -0.48246   -0.05921  0.96082        6.0     -0.46725   \n",
       "4    -0.95197  0.48246    7.00000  0.96082        6.0     -0.14882   \n",
       "5     0.49788  0.48246    8.00000  0.96082        6.0      0.73545   \n",
       "...       ...      ...        ...      ...        ...          ...   \n",
       "1884 -0.95197  0.48246   -0.61113  6.00000        6.0     -1.19430   \n",
       "1885 -0.95197 -0.48246   -0.61113  6.00000        6.0     -0.24649   \n",
       "1886  1.00000  0.48246    0.45468  6.00000        6.0      1.13281   \n",
       "1887 -0.95197  0.48246   -0.61113  6.00000        6.0      0.91093   \n",
       "1888 -0.95197 -0.48246   -0.61113  0.21128        6.0     -0.46725   \n",
       "\n",
       "      Extraversion  Openness  Agreeableness  Conscientiousness  ...  Ecstasy  \\\n",
       "ID                                                              ...            \n",
       "1         -0.57545  -0.58331       -0.91699           -0.00665  ...      CL0   \n",
       "2          1.93886   1.43533        0.76096           -0.14277  ...      CL4   \n",
       "3          0.80523  -0.84732       -1.62090           -1.01450  ...      CL0   \n",
       "4         -0.80615  -0.01928        0.59042            0.58489  ...      CL0   \n",
       "5         -1.63340  -0.45174       -0.30172            1.30612  ...      CL1   \n",
       "...            ...       ...            ...                ...  ...      ...   \n",
       "1884       1.74091   1.88511        0.76096           -1.13788  ...      CL0   \n",
       "1885       1.74091   0.58331        0.76096           -1.51840  ...      CL2   \n",
       "1886      -1.37639  -1.27553       -1.77200           -1.38502  ...      CL4   \n",
       "1887      -1.92173   0.29338       -1.62090           -2.57309  ...      CL3   \n",
       "1888       2.12700   1.65653        1.11406            0.41594  ...      CL3   \n",
       "\n",
       "      Heroin Ketamine Legal_highs  LSD Methadone Mushrooms Nicotine Semeron  \\\n",
       "ID                                                                            \n",
       "1        CL0      CL0         CL0  CL0       CL0       CL0      CL2     CL0   \n",
       "2        CL0      CL2         CL0  CL2       CL3       CL0      CL4     CL0   \n",
       "3        CL0      CL0         CL0  CL0       CL0       CL1      CL0     CL0   \n",
       "4        CL0      CL2         CL0  CL0       CL0       CL0      CL2     CL0   \n",
       "5        CL0      CL0         CL1  CL0       CL0       CL2      CL2     CL0   \n",
       "...      ...      ...         ...  ...       ...       ...      ...     ...   \n",
       "1884     CL0      CL0         CL3  CL3       CL0       CL0      CL0     CL0   \n",
       "1885     CL0      CL0         CL3  CL5       CL4       CL4      CL5     CL0   \n",
       "1886     CL0      CL2         CL0  CL2       CL0       CL2      CL6     CL0   \n",
       "1887     CL0      CL0         CL3  CL3       CL0       CL3      CL4     CL0   \n",
       "1888     CL0      CL0         CL3  CL3       CL0       CL3      CL6     CL0   \n",
       "\n",
       "      VSA  \n",
       "ID         \n",
       "1     CL0  \n",
       "2     CL0  \n",
       "3     CL0  \n",
       "4     CL0  \n",
       "5     CL0  \n",
       "...   ...  \n",
       "1884  CL5  \n",
       "1885  CL0  \n",
       "1886  CL0  \n",
       "1887  CL0  \n",
       "1888  CL2  \n",
       "\n",
       "[1885 rows x 31 columns]"
      ]
     },
     "execution_count": 11,
     "metadata": {},
     "output_type": "execute_result"
    }
   ],
   "source": [
    "data"
   ]
  },
  {
   "cell_type": "markdown",
   "metadata": {},
   "source": [
    "#### Since we want binary classification, we want to modify orginal data: \n",
    "\n",
    "#### when a person consumed the drug last year, last decade, over a decade ago or never used before, we classifed them as 'non-user' and label them as --  -1 \n",
    "\n",
    "#### otherwise, when a person consumed the drug last month, last week, or last day, we considered them as 'user' of this drug -- +1"
   ]
  },
  {
   "cell_type": "code",
   "execution_count": 12,
   "metadata": {},
   "outputs": [],
   "source": [
    "def classifyFre(a):\n",
    "    if ((a == 'CL6') or (a == 'CL5') or (a == 'CL4') ):\n",
    "        a = 1\n",
    "    elif ((a == 'CL0') or (a == 'CL1') or (a == 'CL2') or (a == 'CL3')):\n",
    "        a = -1\n",
    "    \n",
    "    return a\n",
    "\n",
    "for drug in ['Alcohol', 'Amphetamine',\n",
    "       'Amyl_nitrite', 'Benzodiazepine', 'Caffeine', 'Cannabis', 'Chocolate',\n",
    "       'Cocaine', 'Crack', 'Ecstasy', 'Heroin', 'Ketamine', 'Legal_highs',\n",
    "       'LSD', 'Methadone', 'Mushrooms', 'Nicotine', 'Semeron', 'VSA']:\n",
    "    data[drug] = data[drug].map(classifyFre)"
   ]
  },
  {
   "cell_type": "markdown",
   "metadata": {},
   "source": [
    "#### We also classify 18 drugs into three major categories in order to simpify the problem:\n",
    "#### notice: a drug can be classified into mutiple categories; some drugs are removed since they do not belong to any \n",
    "## Three Major Categories: Heroin, Ecstasy, and Benzodiazepines"
   ]
  },
  {
   "cell_type": "code",
   "execution_count": 13,
   "metadata": {},
   "outputs": [],
   "source": [
    "\n",
    "#if a respondent is a user of these drugs classified as Heroins, then he/she/they is labeled as a user of Heroins\n",
    "data['Heroins'] = data.apply(lambda x: int((x['Cocaine'] + x['Crack'] + x['Heroin'] + x['Methadone'])>-4), axis = 1)\n"
   ]
  },
  {
   "cell_type": "code",
   "execution_count": 14,
   "metadata": {},
   "outputs": [],
   "source": [
    "#if a respondent is a user of these drugs classified as Ecstasies, then he/she/they is labeled as a user of Ecstasies\n",
    "data['Ecstasies'] = data.apply(lambda x: int((x['Amphetamine']  + x['Cannabis'] + x['Cocaine']  + x['Ecstasy'] + x['Ketamine'] + x['LSD'] + x['Methadone'] + x['Mushrooms'] )>-8), axis = 1)"
   ]
  },
  {
   "cell_type": "code",
   "execution_count": 15,
   "metadata": {},
   "outputs": [],
   "source": [
    "#if a respondent is a user of these drugs classified as Benzos, then he/she/they is labeled as a user of Benzons\n",
    "data['Benzodiazepines'] = data.apply(lambda x: int((x['Amphetamine'] + x['Cocaine'] + x['Methadone'])>-3), axis = 1)"
   ]
  },
  {
   "cell_type": "code",
   "execution_count": 16,
   "metadata": {},
   "outputs": [],
   "source": [
    "#remove unnecessary data\n",
    "data.drop(['Caffeine','Chocolate','Nicotine','Legal_highs','Alcohol','Amphetamine','Amyl_nitrite','Benzodiazepine', 'Cannabis', 'Cocaine', 'Crack', 'Ecstasy', 'Heroin', 'Ketamine', 'LSD', 'Methadone', 'Mushrooms', 'Semeron', 'VSA'], axis = 1, inplace = True)"
   ]
  },
  {
   "cell_type": "markdown",
   "metadata": {},
   "source": [
    "#### We also did a correlation analysis to investiage the relationship between the features and each target"
   ]
  },
  {
   "cell_type": "code",
   "execution_count": 17,
   "metadata": {},
   "outputs": [],
   "source": [
    "#investigate the correlation between the features and target values \n",
    "#We split the dataset into three parts based on three targets:\n",
    "data1 = data.drop(['Ecstasies', 'Benzodiazepines'], axis = 1)\n",
    "data2 = data.drop(['Heroins', 'Benzodiazepines'], axis = 1)\n",
    "data3 = data.drop(['Ecstasies', 'Heroins'], axis = 1)\n",
    "\n",
    "#using corrwith to generate correlation \n",
    "corr_heroins = data1.corrwith(data1.Heroins)\n",
    "corr_heroins_dict = corr_heroins.to_dict()\n",
    "\n",
    "corr_ecstasies = data2.corrwith(data2.Ecstasies)\n",
    "corr_ecstasies_dict = corr_ecstasies.to_dict()\n",
    "\n",
    "corr_benzos = data3.corrwith(data3.Benzodiazepines)\n",
    "corr_benzos_dict = corr_benzos.to_dict()"
   ]
  },
  {
   "cell_type": "code",
   "execution_count": 18,
   "metadata": {},
   "outputs": [],
   "source": [
    "#after we generate the correlation table, we remove the target value since we don't want them show in the graphs\n",
    "del corr_heroins_dict['Heroins']\n",
    "del corr_ecstasies_dict['Ecstasies']\n",
    "del corr_benzos_dict['Benzodiazepines']"
   ]
  },
  {
   "cell_type": "code",
   "execution_count": 19,
   "metadata": {},
   "outputs": [],
   "source": [
    "#sort the dicts \n",
    "import operator\n",
    "\n",
    "corr_heroins_dict_sorted = sorted(corr_heroins_dict.items(), key=operator.itemgetter(1))\n",
    "corr_ecstasies_dict_sorted = sorted(corr_ecstasies_dict.items(), key=operator.itemgetter(1))\n",
    "corr_benzos_dict_sorted = sorted(corr_benzos_dict.items(), key=operator.itemgetter(1))"
   ]
  },
  {
   "cell_type": "code",
   "execution_count": 20,
   "metadata": {},
   "outputs": [
    {
     "data": {
      "text/plain": [
       "Text(0.5, 1.0, 'Correlation of Heroins and features ')"
      ]
     },
     "execution_count": 20,
     "metadata": {},
     "output_type": "execute_result"
    },
    {
     "data": {
      "image/png": "[encoded data removed]",
      "text/plain": [
       "<Figure size 576x576 with 1 Axes>"
      ]
     },
     "metadata": {
      "needs_background": "light"
     },
     "output_type": "display_data"
    }
   ],
   "source": [
    "#plot correlation on heroins\n",
    "\n",
    "plt.figure(figsize=(8,8)) \n",
    "plt.barh(list(map(lambda x: x[0],corr_heroins_dict_sorted)), list(map(lambda x: x[1],corr_heroins_dict_sorted))) \n",
    "plt.xlabel('Correlation Value') \n",
    "plt.ylabel('Feature') \n",
    "plt.title('Correlation of Heroins and features ')"
   ]
  },
  {
   "cell_type": "code",
   "execution_count": 21,
   "metadata": {},
   "outputs": [
    {
     "data": {
      "text/plain": [
       "Text(0.5, 1.0, 'Correlation of Ecstasies and features ')"
      ]
     },
     "execution_count": 21,
     "metadata": {},
     "output_type": "execute_result"
    },
    {
     "data": {
      "image/png": "[encoded data removed]",
      "text/plain": [
       "<Figure size 576x576 with 1 Axes>"
      ]
     },
     "metadata": {
      "needs_background": "light"
     },
     "output_type": "display_data"
    }
   ],
   "source": [
    "#plot correlation on ecstasies\n",
    "\n",
    "plt.figure(figsize=(8,8)) \n",
    "plt.barh(list(map(lambda x: x[0],corr_ecstasies_dict_sorted)), list(map(lambda x: x[1],corr_ecstasies_dict_sorted))) \n",
    "plt.xlabel('Correlation Value') \n",
    "plt.ylabel('Feature') \n",
    "plt.title('Correlation of Ecstasies and features ')"
   ]
  },
  {
   "cell_type": "code",
   "execution_count": 22,
   "metadata": {
    "scrolled": true
   },
   "outputs": [
    {
     "data": {
      "text/plain": [
       "Text(0.5, 1.0, 'Correlation of Benzos and features ')"
      ]
     },
     "execution_count": 22,
     "metadata": {},
     "output_type": "execute_result"
    },
    {
     "data": {
      "image/png": "[encoded data removed]",
      "text/plain": [
       "<Figure size 576x576 with 1 Axes>"
      ]
     },
     "metadata": {
      "needs_background": "light"
     },
     "output_type": "display_data"
    }
   ],
   "source": [
    "#plot correlation on heroins\n",
    "\n",
    "plt.figure(figsize=(8,8)) \n",
    "plt.barh(list(map(lambda x: x[0],corr_benzos_dict_sorted)), list(map(lambda x: x[1],corr_benzos_dict_sorted))) \n",
    "plt.xlabel('Correlation Value') \n",
    "plt.ylabel('Feature') \n",
    "plt.title('Correlation of Benzos and features ')"
   ]
  },
  {
   "cell_type": "markdown",
   "metadata": {},
   "source": [
    "#### From above three correlations graph, we can see that ethnicity and country have least correlations with all three target values. \n",
    "#### Plus, after a overview of the dataset, most respodents are white, and they come from Amercia or UK. Therefore, we decided to remove country and ethnicity features from the datasets"
   ]
  },
  {
   "cell_type": "code",
   "execution_count": 23,
   "metadata": {},
   "outputs": [],
   "source": [
    "del data['Country']\n",
    "del data['Ethnicity']"
   ]
  },
  {
   "cell_type": "markdown",
   "metadata": {},
   "source": [
    "### Final Cleaned Data"
   ]
  },
  {
   "cell_type": "code",
   "execution_count": 24,
   "metadata": {
    "scrolled": true
   },
   "outputs": [
    {
     "data": {
      "text/html": [
       "<div>\n",
       "<style scoped>\n",
       "    .dataframe tbody tr th:only-of-type {\n",
       "        vertical-align: middle;\n",
       "    }\n",
       "\n",
       "    .dataframe tbody tr th {\n",
       "        vertical-align: top;\n",
       "    }\n",
       "\n",
       "    .dataframe thead th {\n",
       "        text-align: right;\n",
       "    }\n",
       "</style>\n",
       "<table border=\"1\" class=\"dataframe\">\n",
       "  <thead>\n",
       "    <tr style=\"text-align: right;\">\n",
       "      <th></th>\n",
       "      <th>Age</th>\n",
       "      <th>Gender</th>\n",
       "      <th>Education</th>\n",
       "      <th>Neuroticism</th>\n",
       "      <th>Extraversion</th>\n",
       "      <th>Openness</th>\n",
       "      <th>Agreeableness</th>\n",
       "      <th>Conscientiousness</th>\n",
       "      <th>Impulsiveness</th>\n",
       "      <th>Sensation_seeking</th>\n",
       "      <th>Heroins</th>\n",
       "      <th>Ecstasies</th>\n",
       "      <th>Benzodiazepines</th>\n",
       "    </tr>\n",
       "    <tr>\n",
       "      <th>ID</th>\n",
       "      <th></th>\n",
       "      <th></th>\n",
       "      <th></th>\n",
       "      <th></th>\n",
       "      <th></th>\n",
       "      <th></th>\n",
       "      <th></th>\n",
       "      <th></th>\n",
       "      <th></th>\n",
       "      <th></th>\n",
       "      <th></th>\n",
       "      <th></th>\n",
       "      <th></th>\n",
       "    </tr>\n",
       "  </thead>\n",
       "  <tbody>\n",
       "    <tr>\n",
       "      <th>1</th>\n",
       "      <td>0.49788</td>\n",
       "      <td>0.48246</td>\n",
       "      <td>-0.05921</td>\n",
       "      <td>0.31287</td>\n",
       "      <td>-0.57545</td>\n",
       "      <td>-0.58331</td>\n",
       "      <td>-0.91699</td>\n",
       "      <td>-0.00665</td>\n",
       "      <td>-0.21712</td>\n",
       "      <td>-1.18084</td>\n",
       "      <td>0</td>\n",
       "      <td>0</td>\n",
       "      <td>0</td>\n",
       "    </tr>\n",
       "    <tr>\n",
       "      <th>2</th>\n",
       "      <td>1.00000</td>\n",
       "      <td>-0.48246</td>\n",
       "      <td>8.00000</td>\n",
       "      <td>-0.67825</td>\n",
       "      <td>1.93886</td>\n",
       "      <td>1.43533</td>\n",
       "      <td>0.76096</td>\n",
       "      <td>-0.14277</td>\n",
       "      <td>-0.71126</td>\n",
       "      <td>-0.21575</td>\n",
       "      <td>0</td>\n",
       "      <td>1</td>\n",
       "      <td>0</td>\n",
       "    </tr>\n",
       "    <tr>\n",
       "      <th>3</th>\n",
       "      <td>0.49788</td>\n",
       "      <td>-0.48246</td>\n",
       "      <td>-0.05921</td>\n",
       "      <td>-0.46725</td>\n",
       "      <td>0.80523</td>\n",
       "      <td>-0.84732</td>\n",
       "      <td>-1.62090</td>\n",
       "      <td>-1.01450</td>\n",
       "      <td>-1.37983</td>\n",
       "      <td>0.40148</td>\n",
       "      <td>0</td>\n",
       "      <td>0</td>\n",
       "      <td>0</td>\n",
       "    </tr>\n",
       "    <tr>\n",
       "      <th>4</th>\n",
       "      <td>-0.95197</td>\n",
       "      <td>0.48246</td>\n",
       "      <td>7.00000</td>\n",
       "      <td>-0.14882</td>\n",
       "      <td>-0.80615</td>\n",
       "      <td>-0.01928</td>\n",
       "      <td>0.59042</td>\n",
       "      <td>0.58489</td>\n",
       "      <td>-1.37983</td>\n",
       "      <td>-1.18084</td>\n",
       "      <td>0</td>\n",
       "      <td>0</td>\n",
       "      <td>0</td>\n",
       "    </tr>\n",
       "    <tr>\n",
       "      <th>5</th>\n",
       "      <td>0.49788</td>\n",
       "      <td>0.48246</td>\n",
       "      <td>8.00000</td>\n",
       "      <td>0.73545</td>\n",
       "      <td>-1.63340</td>\n",
       "      <td>-0.45174</td>\n",
       "      <td>-0.30172</td>\n",
       "      <td>1.30612</td>\n",
       "      <td>-0.21712</td>\n",
       "      <td>-0.21575</td>\n",
       "      <td>0</td>\n",
       "      <td>0</td>\n",
       "      <td>0</td>\n",
       "    </tr>\n",
       "    <tr>\n",
       "      <th>6</th>\n",
       "      <td>5.00000</td>\n",
       "      <td>0.48246</td>\n",
       "      <td>3.00000</td>\n",
       "      <td>-0.67825</td>\n",
       "      <td>-0.30033</td>\n",
       "      <td>-1.55521</td>\n",
       "      <td>2.03972</td>\n",
       "      <td>1.63088</td>\n",
       "      <td>-1.37983</td>\n",
       "      <td>-1.54858</td>\n",
       "      <td>0</td>\n",
       "      <td>0</td>\n",
       "      <td>0</td>\n",
       "    </tr>\n",
       "    <tr>\n",
       "      <th>7</th>\n",
       "      <td>3.00000</td>\n",
       "      <td>-0.48246</td>\n",
       "      <td>7.00000</td>\n",
       "      <td>-0.46725</td>\n",
       "      <td>-1.09207</td>\n",
       "      <td>-0.45174</td>\n",
       "      <td>-0.30172</td>\n",
       "      <td>0.93949</td>\n",
       "      <td>-0.21712</td>\n",
       "      <td>0.07987</td>\n",
       "      <td>0</td>\n",
       "      <td>0</td>\n",
       "      <td>0</td>\n",
       "    </tr>\n",
       "    <tr>\n",
       "      <th>8</th>\n",
       "      <td>0.49788</td>\n",
       "      <td>-0.48246</td>\n",
       "      <td>1.00000</td>\n",
       "      <td>-1.32828</td>\n",
       "      <td>1.93886</td>\n",
       "      <td>-0.84732</td>\n",
       "      <td>-0.30172</td>\n",
       "      <td>1.63088</td>\n",
       "      <td>0.19268</td>\n",
       "      <td>-0.52593</td>\n",
       "      <td>0</td>\n",
       "      <td>0</td>\n",
       "      <td>0</td>\n",
       "    </tr>\n",
       "    <tr>\n",
       "      <th>9</th>\n",
       "      <td>0.49788</td>\n",
       "      <td>0.48246</td>\n",
       "      <td>-0.05921</td>\n",
       "      <td>0.62967</td>\n",
       "      <td>2.57309</td>\n",
       "      <td>-0.97631</td>\n",
       "      <td>0.76096</td>\n",
       "      <td>1.13407</td>\n",
       "      <td>-1.37983</td>\n",
       "      <td>-1.54858</td>\n",
       "      <td>0</td>\n",
       "      <td>0</td>\n",
       "      <td>0</td>\n",
       "    </tr>\n",
       "    <tr>\n",
       "      <th>10</th>\n",
       "      <td>4.00000</td>\n",
       "      <td>-0.48246</td>\n",
       "      <td>7.00000</td>\n",
       "      <td>-0.24649</td>\n",
       "      <td>0.00332</td>\n",
       "      <td>-1.42424</td>\n",
       "      <td>0.59042</td>\n",
       "      <td>0.12331</td>\n",
       "      <td>-1.37983</td>\n",
       "      <td>-0.84637</td>\n",
       "      <td>0</td>\n",
       "      <td>0</td>\n",
       "      <td>0</td>\n",
       "    </tr>\n",
       "  </tbody>\n",
       "</table>\n",
       "</div>"
      ],
      "text/plain": [
       "        Age   Gender  Education  Neuroticism  Extraversion  Openness  \\\n",
       "ID                                                                     \n",
       "1   0.49788  0.48246   -0.05921      0.31287      -0.57545  -0.58331   \n",
       "2   1.00000 -0.48246    8.00000     -0.67825       1.93886   1.43533   \n",
       "3   0.49788 -0.48246   -0.05921     -0.46725       0.80523  -0.84732   \n",
       "4  -0.95197  0.48246    7.00000     -0.14882      -0.80615  -0.01928   \n",
       "5   0.49788  0.48246    8.00000      0.73545      -1.63340  -0.45174   \n",
       "6   5.00000  0.48246    3.00000     -0.67825      -0.30033  -1.55521   \n",
       "7   3.00000 -0.48246    7.00000     -0.46725      -1.09207  -0.45174   \n",
       "8   0.49788 -0.48246    1.00000     -1.32828       1.93886  -0.84732   \n",
       "9   0.49788  0.48246   -0.05921      0.62967       2.57309  -0.97631   \n",
       "10  4.00000 -0.48246    7.00000     -0.24649       0.00332  -1.42424   \n",
       "\n",
       "    Agreeableness  Conscientiousness  Impulsiveness  Sensation_seeking  \\\n",
       "ID                                                                       \n",
       "1        -0.91699           -0.00665       -0.21712           -1.18084   \n",
       "2         0.76096           -0.14277       -0.71126           -0.21575   \n",
       "3        -1.62090           -1.01450       -1.37983            0.40148   \n",
       "4         0.59042            0.58489       -1.37983           -1.18084   \n",
       "5        -0.30172            1.30612       -0.21712           -0.21575   \n",
       "6         2.03972            1.63088       -1.37983           -1.54858   \n",
       "7        -0.30172            0.93949       -0.21712            0.07987   \n",
       "8        -0.30172            1.63088        0.19268           -0.52593   \n",
       "9         0.76096            1.13407       -1.37983           -1.54858   \n",
       "10        0.59042            0.12331       -1.37983           -0.84637   \n",
       "\n",
       "    Heroins  Ecstasies  Benzodiazepines  \n",
       "ID                                       \n",
       "1         0          0                0  \n",
       "2         0          1                0  \n",
       "3         0          0                0  \n",
       "4         0          0                0  \n",
       "5         0          0                0  \n",
       "6         0          0                0  \n",
       "7         0          0                0  \n",
       "8         0          0                0  \n",
       "9         0          0                0  \n",
       "10        0          0                0  "
      ]
     },
     "execution_count": 24,
     "metadata": {},
     "output_type": "execute_result"
    }
   ],
   "source": [
    "data.head(10)"
   ]
  },
  {
   "cell_type": "markdown",
   "metadata": {},
   "source": [
    "### Preparing for Training"
   ]
  },
  {
   "cell_type": "code",
   "execution_count": 25,
   "metadata": {},
   "outputs": [],
   "source": [
    "#Split the data again to make sure there is no loss\n",
    "\n",
    "data1 = data.drop(['Ecstasies', 'Benzodiazepines'], axis = 1)\n",
    "data2 = data.drop(['Heroins', 'Benzodiazepines'], axis = 1)\n",
    "data3 = data.drop(['Ecstasies', 'Heroins'], axis = 1)"
   ]
  },
  {
   "cell_type": "code",
   "execution_count": 26,
   "metadata": {},
   "outputs": [],
   "source": [
    "#split the data into features and target \n",
    "y1 = data1['Heroins']\n",
    "X1 = data1.drop(['Heroins'], axis = 1)\n",
    "\n",
    "y2 = data2['Ecstasies']\n",
    "X2 = data2.drop(['Ecstasies'], axis = 1)\n",
    "\n",
    "y3 = data3['Benzodiazepines']\n",
    "X3 = data3.drop(['Benzodiazepines'], axis = 1)"
   ]
  },
  {
   "cell_type": "code",
   "execution_count": 27,
   "metadata": {},
   "outputs": [],
   "source": [
    "from sklearn.model_selection import train_test_split\n",
    "# spliting the data focusing heroins into train and test\n",
    "X1_train, X1_test, y1_train, y1_test = train_test_split(X1, y1, train_size = 0.8, random_state = 42)\n",
    "\n",
    "\n",
    "# spliting the data focusing ecstasies into train and test\n",
    "X2_train, X2_test, y2_train, y2_test = train_test_split(X2, y2, train_size = 0.8, random_state = 42)\n",
    "\n",
    "\n",
    "# spliting the data focusing benzos into train and test\n",
    "X3_train, X3_test, y3_train, y3_test = train_test_split(X3, y3, train_size = 0.8, random_state = 42)\n"
   ]
  },
  {
   "cell_type": "markdown",
   "metadata": {},
   "source": [
    "# Logistic Regression\n",
    "## Firstly, we used logistic regression to build and train our models.\n",
    "## Heroins"
   ]
  },
  {
   "cell_type": "code",
   "execution_count": 28,
   "metadata": {},
   "outputs": [],
   "source": [
    "from sklearn.linear_model import LogisticRegression\n",
    "from sklearn.model_selection import KFold, StratifiedKFold, cross_val_score\n",
    "from sklearn import metrics"
   ]
  },
  {
   "cell_type": "code",
   "execution_count": 29,
   "metadata": {},
   "outputs": [
    {
     "name": "stdout",
     "output_type": "stream",
     "text": [
      "Fitting 5 folds for each of 54 candidates, totalling 270 fits\n"
     ]
    },
    {
     "name": "stderr",
     "output_type": "stream",
     "text": [
      "[Parallel(n_jobs=-1)]: Using backend LokyBackend with 10 concurrent workers.\n",
      "[Parallel(n_jobs=-1)]: Done  30 tasks      | elapsed:    1.4s\n",
      "[Parallel(n_jobs=-1)]: Done 270 out of 270 | elapsed:    1.6s finished\n"
     ]
    },
    {
     "data": {
      "text/plain": [
       "GridSearchCV(cv=StratifiedKFold(n_splits=5, random_state=None, shuffle=False),\n",
       "             estimator=LogisticRegression(), n_jobs=-1,\n",
       "             param_grid=[{'C': [1e-20, 1e-19, 1e-18, 1e-17, 1e-16, 1e-15, 1e-14,\n",
       "                                1e-13, 1e-12, 1e-11, 1e-10, 1e-09, 1e-08, 1e-07,\n",
       "                                1e-06, 1e-05, 0.0001, 0.001, 0.01, 0.1, 1, 10,\n",
       "                                100, 1000, 10000, 100000, 1000000],\n",
       "                          'class_weight': ['balanced'], 'penalty': ['l1', 'l2'],\n",
       "                          'solver': ['liblinear']}],\n",
       "             scoring='accuracy', verbose=True)"
      ]
     },
     "execution_count": 29,
     "metadata": {},
     "output_type": "execute_result"
    }
   ],
   "source": [
    "from sklearn.model_selection import GridSearchCV\n",
    "\n",
    "#create parameter grid preparing for grid search \n",
    "param_grid = [\n",
    "    \n",
    "    {\n",
    "     'penalty' : ['l1', 'l2'],\n",
    "    'C' : [10**i for i in range(-20,7)],\n",
    "    'solver' : ['liblinear'],\n",
    "     'class_weight': ['balanced']\n",
    "    },\n",
    "    \n",
    "]\n",
    "\n",
    "#find the best parameters by using Grid Search and cross validation \n",
    "scv = StratifiedKFold(n_splits=5)\n",
    "heroin_GSCV = GridSearchCV(LogisticRegression(), param_grid = param_grid, scoring = 'accuracy', cv = scv, verbose=True, n_jobs=-1)\n",
    "best_heroin_clf = heroin_GSCV.fit(X1_train, y1_train)\n",
    "best_heroin_clf"
   ]
  },
  {
   "cell_type": "code",
   "execution_count": 30,
   "metadata": {},
   "outputs": [
    {
     "data": {
      "text/plain": [
       "{'C': 1e-20,\n",
       " 'class_weight': 'balanced',\n",
       " 'penalty': 'l1',\n",
       " 'solver': 'liblinear'}"
      ]
     },
     "execution_count": 30,
     "metadata": {},
     "output_type": "execute_result"
    }
   ],
   "source": [
    "#return the best parameters\n",
    "best_heroin_clf.best_params_"
   ]
  },
  {
   "cell_type": "code",
   "execution_count": 31,
   "metadata": {},
   "outputs": [
    {
     "name": "stdout",
     "output_type": "stream",
     "text": [
      "Test Score:  0.8514588859416445\n",
      "Train Score:  0.8322281167108754\n"
     ]
    }
   ],
   "source": [
    "#print the accuracy score of test set and train set based on the best parameters\n",
    "y1_pred_test = best_heroin_clf.best_estimator_.predict(X1_test)\n",
    "print(\"Test Score: \",metrics.accuracy_score(y1_test, y1_pred_test))\n",
    "y1_pred_train = best_heroin_clf.best_estimator_.predict(X1_train)\n",
    "print(\"Train Score: \",metrics.accuracy_score(y1_train, y1_pred_train))"
   ]
  },
  {
   "cell_type": "markdown",
   "metadata": {},
   "source": [
    "## Ecstasies"
   ]
  },
  {
   "cell_type": "code",
   "execution_count": 32,
   "metadata": {},
   "outputs": [
    {
     "name": "stdout",
     "output_type": "stream",
     "text": [
      "Fitting 5 folds for each of 54 candidates, totalling 270 fits\n"
     ]
    },
    {
     "name": "stderr",
     "output_type": "stream",
     "text": [
      "[Parallel(n_jobs=-1)]: Using backend LokyBackend with 10 concurrent workers.\n",
      "[Parallel(n_jobs=-1)]: Done  40 tasks      | elapsed:    0.1s\n",
      "[Parallel(n_jobs=-1)]: Done 270 out of 270 | elapsed:    0.2s finished\n"
     ]
    },
    {
     "data": {
      "text/plain": [
       "GridSearchCV(cv=StratifiedKFold(n_splits=5, random_state=None, shuffle=False),\n",
       "             estimator=LogisticRegression(), n_jobs=-1,\n",
       "             param_grid=[{'C': [1e-20, 1e-19, 1e-18, 1e-17, 1e-16, 1e-15, 1e-14,\n",
       "                                1e-13, 1e-12, 1e-11, 1e-10, 1e-09, 1e-08, 1e-07,\n",
       "                                1e-06, 1e-05, 0.0001, 0.001, 0.01, 0.1, 1, 10,\n",
       "                                100, 1000, 10000, 100000, 1000000],\n",
       "                          'class_weight': ['balanced'], 'penalty': ['l1', 'l2'],\n",
       "                          'solver': ['liblinear']}],\n",
       "             scoring='accuracy', verbose=True)"
      ]
     },
     "execution_count": 32,
     "metadata": {},
     "output_type": "execute_result"
    }
   ],
   "source": [
    "ecstasy_GSCV = GridSearchCV(LogisticRegression(), param_grid = param_grid, scoring = 'accuracy', cv = scv, verbose=True, n_jobs=-1)\n",
    "best_ecstasy_clf = ecstasy_GSCV.fit(X2_train, y2_train)\n",
    "best_ecstasy_clf"
   ]
  },
  {
   "cell_type": "code",
   "execution_count": 33,
   "metadata": {},
   "outputs": [
    {
     "data": {
      "text/plain": [
       "{'C': 0.1, 'class_weight': 'balanced', 'penalty': 'l2', 'solver': 'liblinear'}"
      ]
     },
     "execution_count": 33,
     "metadata": {},
     "output_type": "execute_result"
    }
   ],
   "source": [
    "best_ecstasy_clf.best_params_"
   ]
  },
  {
   "cell_type": "code",
   "execution_count": 34,
   "metadata": {},
   "outputs": [
    {
     "name": "stdout",
     "output_type": "stream",
     "text": [
      "Test Score:  0.7771883289124668\n",
      "Train Score:  0.7771883289124668\n"
     ]
    }
   ],
   "source": [
    "y2_pred_test = best_ecstasy_clf.best_estimator_.predict(X2_test)\n",
    "print(\"Test Score: \",metrics.accuracy_score(y2_test, y2_pred_test))\n",
    "\n",
    "y2_pred_train = best_ecstasy_clf.best_estimator_.predict(X2_train)\n",
    "print(\"Train Score: \",metrics.accuracy_score(y2_train, y2_pred_train))"
   ]
  },
  {
   "cell_type": "markdown",
   "metadata": {},
   "source": [
    "## Benzos"
   ]
  },
  {
   "cell_type": "code",
   "execution_count": 35,
   "metadata": {},
   "outputs": [
    {
     "name": "stdout",
     "output_type": "stream",
     "text": [
      "Fitting 5 folds for each of 54 candidates, totalling 270 fits\n"
     ]
    },
    {
     "name": "stderr",
     "output_type": "stream",
     "text": [
      "[Parallel(n_jobs=-1)]: Using backend LokyBackend with 10 concurrent workers.\n",
      "[Parallel(n_jobs=-1)]: Done  40 tasks      | elapsed:    0.0s\n",
      "[Parallel(n_jobs=-1)]: Done 270 out of 270 | elapsed:    0.2s finished\n"
     ]
    },
    {
     "data": {
      "text/plain": [
       "GridSearchCV(cv=StratifiedKFold(n_splits=5, random_state=None, shuffle=False),\n",
       "             estimator=LogisticRegression(), n_jobs=-1,\n",
       "             param_grid=[{'C': [1e-20, 1e-19, 1e-18, 1e-17, 1e-16, 1e-15, 1e-14,\n",
       "                                1e-13, 1e-12, 1e-11, 1e-10, 1e-09, 1e-08, 1e-07,\n",
       "                                1e-06, 1e-05, 0.0001, 0.001, 0.01, 0.1, 1, 10,\n",
       "                                100, 1000, 10000, 100000, 1000000],\n",
       "                          'class_weight': ['balanced'], 'penalty': ['l1', 'l2'],\n",
       "                          'solver': ['liblinear']}],\n",
       "             scoring='accuracy', verbose=True)"
      ]
     },
     "execution_count": 35,
     "metadata": {},
     "output_type": "execute_result"
    }
   ],
   "source": [
    "benzo_GSCV = GridSearchCV(LogisticRegression(), param_grid = param_grid, scoring = 'accuracy', cv = scv, verbose=True, n_jobs=-1)\n",
    "best_benzo_clf = benzo_GSCV.fit(X3_train, y3_train)\n",
    "best_benzo_clf"
   ]
  },
  {
   "cell_type": "code",
   "execution_count": 36,
   "metadata": {},
   "outputs": [
    {
     "data": {
      "text/plain": [
       "{'C': 1e-20,\n",
       " 'class_weight': 'balanced',\n",
       " 'penalty': 'l1',\n",
       " 'solver': 'liblinear'}"
      ]
     },
     "execution_count": 36,
     "metadata": {},
     "output_type": "execute_result"
    }
   ],
   "source": [
    "best_benzo_clf.best_params_"
   ]
  },
  {
   "cell_type": "code",
   "execution_count": 37,
   "metadata": {},
   "outputs": [
    {
     "name": "stdout",
     "output_type": "stream",
     "text": [
      "Test Score:  0.8116710875331565\n",
      "Train Score:  0.7672413793103449\n"
     ]
    }
   ],
   "source": [
    "y3_pred_test = best_benzo_clf.best_estimator_.predict(X3_test)\n",
    "print(\"Test Score: \",metrics.accuracy_score(y3_test, y3_pred_test))\n",
    "\n",
    "y3_pred_train = best_benzo_clf.best_estimator_.predict(X3_train)\n",
    "print(\"Train Score: \",metrics.accuracy_score(y3_train, y3_pred_train))"
   ]
  },
  {
   "cell_type": "markdown",
   "metadata": {},
   "source": [
    "# Support Vector Machine \n",
    "## Heroins"
   ]
  },
  {
   "cell_type": "code",
   "execution_count": 38,
   "metadata": {},
   "outputs": [
    {
     "name": "stdout",
     "output_type": "stream",
     "text": [
      "Fitting 5 folds for each of 8 candidates, totalling 40 fits\n"
     ]
    },
    {
     "name": "stderr",
     "output_type": "stream",
     "text": [
      "[Parallel(n_jobs=-1)]: Using backend LokyBackend with 10 concurrent workers.\n",
      "[Parallel(n_jobs=-1)]: Done  21 out of  40 | elapsed:    0.1s remaining:    0.1s\n",
      "[Parallel(n_jobs=-1)]: Done  40 out of  40 | elapsed:    0.1s finished\n"
     ]
    },
    {
     "data": {
      "text/plain": [
       "GridSearchCV(cv=StratifiedKFold(n_splits=5, random_state=None, shuffle=False),\n",
       "             estimator=SVC(), n_jobs=-1,\n",
       "             param_grid=[{'C': [0, 0.5, 1, 10], 'kernel': ['linear', 'rbf'],\n",
       "                          'random_state': [0]}],\n",
       "             scoring='accuracy', verbose=True)"
      ]
     },
     "execution_count": 38,
     "metadata": {},
     "output_type": "execute_result"
    }
   ],
   "source": [
    "from sklearn.svm import SVC\n",
    "\n",
    "# Create param grid.\n",
    "param_grid = [\n",
    "    \n",
    "    {\n",
    "     'kernel':['linear','rbf'],\n",
    "    'C' : [0,0.5,1,10],\n",
    "        'random_state': [0]\n",
    "    },\n",
    "    \n",
    "]\n",
    "\n",
    "# Finding the best parameters by using Grid Search and cross validation \n",
    "scv = StratifiedKFold(n_splits=5)\n",
    "heroin_GSCV = GridSearchCV(SVC(), param_grid = param_grid, scoring = 'accuracy', cv = scv, verbose=True, n_jobs=-1)\n",
    "best_heroin_clf = heroin_GSCV.fit(X1_train, y1_train)\n",
    "best_heroin_clf"
   ]
  },
  {
   "cell_type": "code",
   "execution_count": 39,
   "metadata": {},
   "outputs": [
    {
     "data": {
      "text/plain": [
       "{'C': 0.5, 'kernel': 'linear', 'random_state': 0}"
      ]
     },
     "execution_count": 39,
     "metadata": {},
     "output_type": "execute_result"
    }
   ],
   "source": [
    "best_heroin_clf.best_params_"
   ]
  },
  {
   "cell_type": "code",
   "execution_count": 40,
   "metadata": {},
   "outputs": [
    {
     "name": "stdout",
     "output_type": "stream",
     "text": [
      "Test Score:  0.8514588859416445\n",
      "Train Score:  0.8322281167108754\n"
     ]
    }
   ],
   "source": [
    "y1_pred_test = best_heroin_clf.best_estimator_.predict(X1_test)\n",
    "print(\"Test Score: \",metrics.accuracy_score(y1_test, y1_pred_test))\n",
    "y1_pred_train = best_heroin_clf.best_estimator_.predict(X1_train)\n",
    "print(\"Train Score: \",metrics.accuracy_score(y1_train, y1_pred_train))"
   ]
  },
  {
   "cell_type": "markdown",
   "metadata": {},
   "source": [
    "## Ecstasies"
   ]
  },
  {
   "cell_type": "code",
   "execution_count": 41,
   "metadata": {},
   "outputs": [
    {
     "name": "stdout",
     "output_type": "stream",
     "text": [
      "Fitting 5 folds for each of 8 candidates, totalling 40 fits\n"
     ]
    },
    {
     "name": "stderr",
     "output_type": "stream",
     "text": [
      "[Parallel(n_jobs=-1)]: Using backend LokyBackend with 10 concurrent workers.\n",
      "[Parallel(n_jobs=-1)]: Done  40 out of  40 | elapsed:    0.3s finished\n"
     ]
    },
    {
     "data": {
      "text/plain": [
       "GridSearchCV(cv=StratifiedKFold(n_splits=5, random_state=None, shuffle=False),\n",
       "             estimator=SVC(), n_jobs=-1,\n",
       "             param_grid=[{'C': [0, 0.5, 1, 10], 'kernel': ['linear', 'rbf'],\n",
       "                          'random_state': [0]}],\n",
       "             scoring='accuracy', verbose=True)"
      ]
     },
     "execution_count": 41,
     "metadata": {},
     "output_type": "execute_result"
    }
   ],
   "source": [
    "ecstasy_GSCV = GridSearchCV(SVC(), param_grid = param_grid, scoring = 'accuracy', cv = scv, verbose=True, n_jobs=-1)\n",
    "best_ecstasy_clf = ecstasy_GSCV.fit(X2_train, y2_train)\n",
    "best_ecstasy_clf"
   ]
  },
  {
   "cell_type": "code",
   "execution_count": 42,
   "metadata": {},
   "outputs": [
    {
     "data": {
      "text/plain": [
       "{'C': 0.5, 'kernel': 'linear', 'random_state': 0}"
      ]
     },
     "execution_count": 42,
     "metadata": {},
     "output_type": "execute_result"
    }
   ],
   "source": [
    "best_ecstasy_clf.best_params_"
   ]
  },
  {
   "cell_type": "code",
   "execution_count": 43,
   "metadata": {},
   "outputs": [
    {
     "name": "stdout",
     "output_type": "stream",
     "text": [
      "Test Score:  0.7904509283819628\n",
      "Train Score:  0.7738726790450928\n"
     ]
    }
   ],
   "source": [
    "y2_pred_test = best_ecstasy_clf.best_estimator_.predict(X2_test)\n",
    "print(\"Test Score: \",metrics.accuracy_score(y2_test, y2_pred_test))\n",
    "\n",
    "y2_pred_train = best_ecstasy_clf.best_estimator_.predict(X2_train)\n",
    "print(\"Train Score: \",metrics.accuracy_score(y2_train, y2_pred_train))"
   ]
  },
  {
   "cell_type": "markdown",
   "metadata": {},
   "source": [
    "## Benzo"
   ]
  },
  {
   "cell_type": "code",
   "execution_count": 44,
   "metadata": {},
   "outputs": [
    {
     "name": "stderr",
     "output_type": "stream",
     "text": [
      "[Parallel(n_jobs=-1)]: Using backend LokyBackend with 10 concurrent workers.\n"
     ]
    },
    {
     "name": "stdout",
     "output_type": "stream",
     "text": [
      "Fitting 5 folds for each of 8 candidates, totalling 40 fits\n"
     ]
    },
    {
     "name": "stderr",
     "output_type": "stream",
     "text": [
      "[Parallel(n_jobs=-1)]: Done  40 out of  40 | elapsed:    0.2s finished\n"
     ]
    },
    {
     "data": {
      "text/plain": [
       "GridSearchCV(cv=StratifiedKFold(n_splits=5, random_state=None, shuffle=False),\n",
       "             estimator=SVC(), n_jobs=-1,\n",
       "             param_grid=[{'C': [0, 0.5, 1, 10], 'kernel': ['linear', 'rbf'],\n",
       "                          'random_state': [0]}],\n",
       "             scoring='accuracy', verbose=True)"
      ]
     },
     "execution_count": 44,
     "metadata": {},
     "output_type": "execute_result"
    }
   ],
   "source": [
    "benzo_GSCV = GridSearchCV(SVC(), param_grid = param_grid, scoring = 'accuracy', cv = scv, verbose=True, n_jobs=-1)\n",
    "best_benzo_clf = benzo_GSCV.fit(X3_train, y3_train)\n",
    "best_benzo_clf"
   ]
  },
  {
   "cell_type": "code",
   "execution_count": 45,
   "metadata": {},
   "outputs": [
    {
     "data": {
      "text/plain": [
       "{'C': 0.5, 'kernel': 'linear', 'random_state': 0}"
      ]
     },
     "execution_count": 45,
     "metadata": {},
     "output_type": "execute_result"
    }
   ],
   "source": [
    "best_benzo_clf.best_params_"
   ]
  },
  {
   "cell_type": "code",
   "execution_count": 46,
   "metadata": {},
   "outputs": [
    {
     "name": "stdout",
     "output_type": "stream",
     "text": [
      "Test Score:  0.8116710875331565\n",
      "Train Score:  0.7672413793103449\n"
     ]
    }
   ],
   "source": [
    "y3_pred_test = best_benzo_clf.best_estimator_.predict(X3_test)\n",
    "print(\"Test Score: \",metrics.accuracy_score(y3_test, y3_pred_test))\n",
    "\n",
    "y3_pred_train = best_benzo_clf.best_estimator_.predict(X3_train)\n",
    "print(\"Train Score: \",metrics.accuracy_score(y3_train, y3_pred_train))"
   ]
  },
  {
   "cell_type": "markdown",
   "metadata": {},
   "source": [
    "# Neural Network\n",
    "## Using PyTorch, we implemented the FeedForword Neural Network \n"
   ]
  },
  {
   "cell_type": "code",
   "execution_count": 47,
   "metadata": {},
   "outputs": [],
   "source": [
    "from torch import nn\n",
    "import numpy as np\n",
    "import torch\n",
    "from torch.utils.data import DataLoader, Dataset"
   ]
  },
  {
   "cell_type": "code",
   "execution_count": 48,
   "metadata": {},
   "outputs": [],
   "source": [
    "#set up parameters\n",
    "learning_rate = 0.001\n",
    "epochs = 40\n",
    "batch_size = 60\n",
    "\n",
    "# load training and testing data for Heroins\n",
    "trainset1 = dataset(X1_train.to_numpy(), y1_train.to_numpy())\n",
    "trainloader1 = DataLoader(trainset1,batch_size=batch_size,shuffle=True)\n",
    "\n",
    "testset1 = dataset(X1_test.to_numpy(), y1_test.to_numpy())\n",
    "testloader1 = DataLoader(testset1, batch_size=batch_size, shuffle=True)\n",
    "\n",
    "# load training and testing data for Ecstasies\n",
    "trainset2 = dataset(X2_train.to_numpy(), y2_train.to_numpy())\n",
    "trainloader2 = DataLoader(trainset2,batch_size=batch_size,shuffle=True)\n",
    "\n",
    "testset2 = dataset(X2_test.to_numpy(), y2_test.to_numpy())\n",
    "testloader2 = DataLoader(testset2, batch_size=batch_size, shuffle=True)\n",
    "\n",
    "# load training and testing data for Benzos\n",
    "trainset3 = dataset(X3_train.to_numpy(), y3_train.to_numpy())\n",
    "trainloader3 = DataLoader(trainset3,batch_size=batch_size,shuffle=True)\n",
    "\n",
    "testset3 = dataset(X3_test.to_numpy(), y3_test.to_numpy())\n",
    "testloader3 = DataLoader(testset3, batch_size=batch_size, shuffle=True)\n",
    "\n",
    "\n",
    "# set device\n",
    "device = torch.device('cuda' if torch.cuda.is_available() else 'cpu')"
   ]
  },
  {
   "cell_type": "code",
   "execution_count": 49,
   "metadata": {},
   "outputs": [],
   "source": [
    "# Build a configurable feed-forward network\n",
    "def feedforward_NN(num_input, num_output, num_layer, num_neuron, activation):\n",
    "    \"\"\"A function emcompassing a customizable Pytorch NN\n",
    "    \n",
    "     `Note: The activation function for output layer is always sigmoid function` \n",
    "\n",
    "        - num_input: The amount of input layers, usually the num of feature.\n",
    "        - num_output: The amount of output layers, usually 1 for binary classification\n",
    "        - num_layer: The amount of hidden layers.\n",
    "        - num_neuron: The amount of neuron in each hidden layer\n",
    "        - activation: The activation function to be used in every hidden layer \n",
    "    \"\"\"\n",
    "    if num_layer == 1:\n",
    "        if activation == 'sigmoid':\n",
    "            model = nn.Sequential(nn.Linear(num_input, num_neuron),\n",
    "                                nn.Sigmoid(),\n",
    "                                nn.Linear(num_neuron, num_neuron),\n",
    "                                nn.Sigmoid(),\n",
    "                                nn.Linear(num_neuron, num_output),\n",
    "                                nn.Sigmoid())\n",
    "        elif activation == 'tanh':\n",
    "            model = nn.Sequential(nn.Linear(num_input, num_neuron),\n",
    "                                nn.Tanh(),\n",
    "                                nn.Linear(num_neuron, num_neuron),\n",
    "                                nn.Tanh(),\n",
    "                                nn.Linear(num_neuron, num_output),\n",
    "                                nn.Sigmoid())\n",
    "        elif activation == 'identity':\n",
    "            model = nn.Sequential(nn.Linear(num_input, num_neuron),\n",
    "                                nn.Identity(),\n",
    "                                nn.Linear(num_neuron, num_neuron),\n",
    "                                nn.Identity(),\n",
    "                                nn.Linear(num_neuron, num_output),\n",
    "                                nn.Sigmoid())\n",
    "        elif activation == 'relu':\n",
    "            model = nn.Sequential(nn.Linear(num_input, num_neuron),\n",
    "                                nn.ReLU(),\n",
    "                                nn.Linear(num_neuron, num_neuron),\n",
    "                                nn.ReLU(),\n",
    "                                nn.Linear(num_neuron, num_output),\n",
    "                                nn.Sigmoid())\n",
    "        else: raise RuntimeError('activation can only be one of the following: sigmoid, identity, relu, tanh')\n",
    "    elif num_layer == 2:\n",
    "        if activation == 'sigmoid':\n",
    "            model = nn.Sequential(nn.Linear(num_input, num_neuron),\n",
    "                                nn.Sigmoid(),\n",
    "                                nn.Linear(num_neuron, num_neuron),\n",
    "                                nn.Sigmoid(),\n",
    "                                nn.Linear(num_neuron, num_neuron),\n",
    "                                nn.Sigmoid(),\n",
    "                                nn.Linear(num_neuron, num_output),\n",
    "                                nn.Sigmoid())\n",
    "        elif activation == 'tanh':\n",
    "            model = nn.Sequential(nn.Linear(num_input, num_neuron),\n",
    "                                nn.Tanh(),\n",
    "                                nn.Linear(num_neuron, num_neuron),\n",
    "                                nn.Tanh(),\n",
    "                                nn.Linear(num_neuron, num_neuron),\n",
    "                                nn.Tanh(),\n",
    "                                nn.Linear(num_neuron, num_output),\n",
    "                                nn.Sigmoid())\n",
    "        elif activation == 'identity':\n",
    "            model = nn.Sequential(nn.Linear(num_input, num_neuron),\n",
    "                                nn.Identity(),\n",
    "                                nn.Linear(num_neuron, num_neuron),\n",
    "                                nn.Identity(),\n",
    "                                nn.Linear(num_neuron, num_neuron),\n",
    "                                nn.Identity(),\n",
    "                                nn.Linear(num_neuron, num_output),\n",
    "                                nn.Sigmoid())\n",
    "        elif activation == 'relu':\n",
    "            model = nn.Sequential(nn.Linear(num_input, num_neuron),\n",
    "                                nn.ReLU(),\n",
    "                                nn.Linear(num_neuron, num_neuron),\n",
    "                                nn.ReLU(),\n",
    "                                nn.Linear(num_neuron, num_neuron),\n",
    "                                nn.ReLU(),\n",
    "                                nn.Linear(num_neuron, num_output),\n",
    "                                nn.Sigmoid())\n",
    "        else: raise RuntimeError('activation can only be one of the following: sigmoid, identity, relu, tanh')\n",
    "    else: raise RuntimeError('Expected number of layer to be either 1 or 2')\n",
    "\n",
    "    return model"
   ]
  },
  {
   "cell_type": "code",
   "execution_count": 50,
   "metadata": {},
   "outputs": [],
   "source": [
    "from statistics import mean\n",
    "# method to train the model\n",
    "def train_NN(model, epochs, trainloader, testloader,optimizer, criterion, activation):\n",
    "  \"\"\"Method to train NN\"\"\"\n",
    "\n",
    "  def check_test_accuracy(y_test, y_pred) -> float:\n",
    "    \"\"\"helper method to determine the test accuracy by comparing test data and predicted data\"\"\"\n",
    "    counter = 0\n",
    "    for y1, y2 in zip(y_test, y_pred):\n",
    "      if y2 > 0.5 and y1 == 0:\n",
    "        counter += 1\n",
    "      if y2 <= 0.5 and y1 == 1:\n",
    "        counter += 1\n",
    "    \n",
    "    return (len(y_test) - counter) / len(y_pred)\n",
    "\n",
    "  print(f\"Current setting: activation function for hidden layer:{activation}, activation function for output layer: Sigmoid.\")\n",
    "  \n",
    "\n",
    "  train_losses = []\n",
    "  test_errors = []\n",
    "  train_accu = []\n",
    "  test_accu = []\n",
    "  \n",
    "  # Train data\n",
    "  # forward loop\n",
    "  for epoch in range(epochs):\n",
    "    # train data\n",
    "    print(f\"----------Epoch {epoch + 1}----------\")\n",
    "    running_loss = 0.0\n",
    "    for x_train, y_train in trainloader:\n",
    "      # Training pass\n",
    "      optimizer.zero_grad()\n",
    "      output = model(x_train)\n",
    "      loss = criterion(output, y_train.reshape(-1,1))\n",
    "      loss.backward()\n",
    "      optimizer.step()\n",
    "      running_loss += loss.item()\n",
    "    else:\n",
    "      print(f\"Training loss: {running_loss/len(trainloader)}\")\n",
    "\n",
    "    #test data\n",
    "    with torch.no_grad():\n",
    "      for x_test, y_test in testloader:\n",
    "        output2 = model(x_test)\n",
    "    \n",
    "\n",
    "    # display training error\n",
    "    Training_accuracy = check_test_accuracy(y_train, output)\n",
    "    # displaing testing error\n",
    "    Testing_accuracy = check_test_accuracy(y_test, output2)\n",
    "    print(f\"Training error is {(1-Training_accuracy)*100}%\")\n",
    "    print(f\"Testing error is {(1-Testing_accuracy)*100}%\")\n",
    "    train_losses.append(running_loss/len(trainloader))\n",
    "    test_errors.append(1-Testing_accuracy)\n",
    "    train_accu.append(Training_accuracy)\n",
    "    test_accu.append(Testing_accuracy)\n",
    "    \n",
    "    \n",
    "  plt.figure(figsize=(8,8))  \n",
    "  plt.plot(np.linspace(1,40,num=40),train_losses)\n",
    "  plt.xlabel(\"Epoch\")\n",
    "  plt.ylabel(\"Training Loss(%)\")\n",
    "  plt.show()\n",
    "\n",
    "\n",
    "  plt.figure(figsize=(8,8))\n",
    "  plt.plot(np.linspace(1,40,num=40),test_errors)\n",
    "  plt.xlabel(\"Epoch\")\n",
    "  plt.ylabel(\"Testing Error(%)\")\n",
    "  plt.show()\n",
    "  \n",
    "  #since the training accuracy and testing accuracy are waving all the time after epoches, we used \n",
    "  #mean value to compute its overall performance\n",
    "  print(\"mean training accuracy:\", mean(train_accu), \"  mean testing accuracy:\",mean(test_accu))\n",
    "\n",
    "  \n",
    "\n",
    "        "
   ]
  },
  {
   "cell_type": "markdown",
   "metadata": {},
   "source": [
    "## Heroins"
   ]
  },
  {
   "cell_type": "code",
   "execution_count": 51,
   "metadata": {},
   "outputs": [
    {
     "name": "stdout",
     "output_type": "stream",
     "text": [
      "Current setting: activation function for hidden layer:relu, activation function for output layer: Sigmoid.\n",
      "----------Epoch 1----------\n",
      "Training loss: 0.6240191299181718\n",
      "Training error is 12.5%\n",
      "Testing error is 5.882352941176472%\n",
      "----------Epoch 2----------\n",
      "Training loss: 0.5310570586186188\n",
      "Training error is 12.5%\n",
      "Testing error is 23.529411764705888%\n",
      "----------Epoch 3----------\n",
      "Training loss: 0.44521200828827345\n",
      "Training error is 0.0%\n",
      "Testing error is 23.529411764705888%\n",
      "----------Epoch 4----------\n",
      "Training loss: 0.4192887246608734\n",
      "Training error is 0.0%\n",
      "Testing error is 11.764705882352944%\n",
      "----------Epoch 5----------\n",
      "Training loss: 0.4226384816261438\n",
      "Training error is 37.5%\n",
      "Testing error is 11.764705882352944%\n",
      "----------Epoch 6----------\n",
      "Training loss: 0.4113199355510565\n",
      "Training error is 12.5%\n",
      "Testing error is 5.882352941176472%\n",
      "----------Epoch 7----------\n",
      "Training loss: 0.41206544866928685\n",
      "Training error is 25.0%\n",
      "Testing error is 23.529411764705888%\n",
      "----------Epoch 8----------\n",
      "Training loss: 0.40498876915528226\n",
      "Training error is 12.5%\n",
      "Testing error is 11.764705882352944%\n",
      "----------Epoch 9----------\n",
      "Training loss: 0.41468033079917616\n",
      "Training error is 37.5%\n",
      "Testing error is 5.882352941176472%\n",
      "----------Epoch 10----------\n",
      "Training loss: 0.39902423092952144\n",
      "Training error is 12.5%\n",
      "Testing error is 29.411764705882348%\n",
      "----------Epoch 11----------\n",
      "Training loss: 0.40463278729182023\n",
      "Training error is 25.0%\n",
      "Testing error is 11.764705882352944%\n",
      "----------Epoch 12----------\n",
      "Training loss: 0.39193667757969636\n",
      "Training error is 0.0%\n",
      "Testing error is 17.647058823529417%\n",
      "----------Epoch 13----------\n",
      "Training loss: 0.4033739028068689\n",
      "Training error is 25.0%\n",
      "Testing error is 5.882352941176472%\n",
      "----------Epoch 14----------\n",
      "Training loss: 0.39526091516017914\n",
      "Training error is 0.0%\n",
      "Testing error is 29.411764705882348%\n",
      "----------Epoch 15----------\n",
      "Training loss: 0.3932175137675725\n",
      "Training error is 12.5%\n",
      "Testing error is 29.411764705882348%\n",
      "----------Epoch 16----------\n",
      "Training loss: 0.38973828233205354\n",
      "Training error is 0.0%\n",
      "Testing error is 23.529411764705888%\n",
      "----------Epoch 17----------\n",
      "Training loss: 0.39510433834332687\n",
      "Training error is 12.5%\n",
      "Testing error is 17.647058823529417%\n",
      "----------Epoch 18----------\n",
      "Training loss: 0.399482310964511\n",
      "Training error is 25.0%\n",
      "Testing error is 11.764705882352944%\n",
      "----------Epoch 19----------\n",
      "Training loss: 0.4009816531951611\n",
      "Training error is 25.0%\n",
      "Testing error is 29.411764705882348%\n",
      "----------Epoch 20----------\n",
      "Training loss: 0.39207699321783507\n",
      "Training error is 12.5%\n",
      "Testing error is 5.882352941176472%\n",
      "----------Epoch 21----------\n",
      "Training loss: 0.39212381209318453\n",
      "Training error is 12.5%\n",
      "Testing error is 11.764705882352944%\n",
      "----------Epoch 22----------\n",
      "Training loss: 0.398195546406966\n",
      "Training error is 12.5%\n",
      "Testing error is 17.647058823529417%\n",
      "----------Epoch 23----------\n",
      "Training loss: 0.39279327197716785\n",
      "Training error is 12.5%\n",
      "Testing error is 5.882352941176472%\n",
      "----------Epoch 24----------\n",
      "Training loss: 0.3840943460281079\n",
      "Training error is 0.0%\n",
      "Testing error is 41.17647058823529%\n",
      "----------Epoch 25----------\n",
      "Training loss: 0.39266987775380796\n",
      "Training error is 25.0%\n",
      "Testing error is 17.647058823529417%\n",
      "----------Epoch 26----------\n",
      "Training loss: 0.3875991845360169\n",
      "Training error is 12.5%\n",
      "Testing error is 29.411764705882348%\n",
      "----------Epoch 27----------\n",
      "Training loss: 0.39770124508784366\n",
      "Training error is 12.5%\n",
      "Testing error is 5.882352941176472%\n",
      "----------Epoch 28----------\n",
      "Training loss: 0.38244409973804766\n",
      "Training error is 0.0%\n",
      "Testing error is 11.764705882352944%\n",
      "----------Epoch 29----------\n",
      "Training loss: 0.3982935891701625\n",
      "Training error is 37.5%\n",
      "Testing error is 0.0%\n",
      "----------Epoch 30----------\n",
      "Training loss: 0.3818225705852875\n",
      "Training error is 12.5%\n",
      "Testing error is 17.647058823529417%\n",
      "----------Epoch 31----------\n",
      "Training loss: 0.3851379052950786\n",
      "Training error is 12.5%\n",
      "Testing error is 5.882352941176472%\n",
      "----------Epoch 32----------\n",
      "Training loss: 0.3797057695113696\n",
      "Training error is 12.5%\n",
      "Testing error is 11.764705882352944%\n",
      "----------Epoch 33----------\n",
      "Training loss: 0.3869034699522532\n",
      "Training error is 12.5%\n",
      "Testing error is 11.764705882352944%\n",
      "----------Epoch 34----------\n",
      "Training loss: 0.37964809284760404\n",
      "Training error is 12.5%\n",
      "Testing error is 17.647058823529417%\n",
      "----------Epoch 35----------\n",
      "Training loss: 0.3936991192973577\n",
      "Training error is 37.5%\n",
      "Testing error is 23.529411764705888%\n",
      "----------Epoch 36----------\n",
      "Training loss: 0.3838186435974561\n",
      "Training error is 25.0%\n",
      "Testing error is 11.764705882352944%\n",
      "----------Epoch 37----------\n",
      "Training loss: 0.3856872755747575\n",
      "Training error is 37.5%\n",
      "Testing error is 41.17647058823529%\n",
      "----------Epoch 38----------\n",
      "Training loss: 0.39267757764229405\n",
      "Training error is 25.0%\n",
      "Testing error is 0.0%\n",
      "----------Epoch 39----------\n",
      "Training loss: 0.3746429985532394\n",
      "Training error is 12.5%\n",
      "Testing error is 11.764705882352944%\n",
      "----------Epoch 40----------\n",
      "Training loss: 0.37068795412778854\n",
      "Training error is 12.5%\n",
      "Testing error is 17.647058823529417%\n"
     ]
    },
    {
     "data": {
      "image/png": "[encoded data removed]",
      "text/plain": [
       "<Figure size 576x576 with 1 Axes>"
      ]
     },
     "metadata": {
      "needs_background": "light"
     },
     "output_type": "display_data"
    },
    {
     "data": {
      "image/png": "[encoded data removed]",
      "text/plain": [
       "<Figure size 576x576 with 1 Axes>"
      ]
     },
     "metadata": {
      "needs_background": "light"
     },
     "output_type": "display_data"
    },
    {
     "name": "stdout",
     "output_type": "stream",
     "text": [
      "mean training accuracy: 0.840625   mean testing accuracy: 0.8382352941176471\n"
     ]
    }
   ],
   "source": [
    "#build the NN \n",
    "model = feedforward_NN(num_input=10, num_output=1, num_layer=2, num_neuron=20, activation='relu')\n",
    "\n",
    "#set up iptimizer and loss function\n",
    "optimizer = torch.optim.Adam(model.parameters(),lr=learning_rate)\n",
    "criterion = torch.nn.BCELoss()\n",
    "\n",
    "#train the model for predicing Heroins, print the result in each epoch and draw the\n",
    "#trend of training loss and testing error as epoch goes\n",
    "trained_model1 = train_NN(model, epochs, trainloader1, testloader1,optimizer, criterion, activation=\"relu\")"
   ]
  },
  {
   "cell_type": "markdown",
   "metadata": {},
   "source": [
    "## Ecstasies"
   ]
  },
  {
   "cell_type": "code",
   "execution_count": 52,
   "metadata": {
    "scrolled": true
   },
   "outputs": [
    {
     "name": "stdout",
     "output_type": "stream",
     "text": [
      "Current setting: activation function for hidden layer:relu, activation function for output layer: Sigmoid.\n",
      "----------Epoch 1----------\n",
      "Training loss: 0.66059698508336\n",
      "Training error is 12.5%\n",
      "Testing error is 17.647058823529417%\n",
      "----------Epoch 2----------\n",
      "Training loss: 0.48867535361876857\n",
      "Training error is 37.5%\n",
      "Testing error is 41.17647058823529%\n",
      "----------Epoch 3----------\n",
      "Training loss: 0.46055310047589815\n",
      "Training error is 0.0%\n",
      "Testing error is 17.647058823529417%\n",
      "----------Epoch 4----------\n",
      "Training loss: 0.4551313840425931\n",
      "Training error is 12.5%\n",
      "Testing error is 17.647058823529417%\n",
      "----------Epoch 5----------\n",
      "Training loss: 0.447711325608767\n",
      "Training error is 12.5%\n",
      "Testing error is 17.647058823529417%\n",
      "----------Epoch 6----------\n",
      "Training loss: 0.4372908186454039\n",
      "Training error is 12.5%\n",
      "Testing error is 17.647058823529417%\n",
      "----------Epoch 7----------\n",
      "Training loss: 0.4302366307148567\n",
      "Training error is 0.0%\n",
      "Testing error is 11.764705882352944%\n",
      "----------Epoch 8----------\n",
      "Training loss: 0.4299690001285993\n",
      "Training error is 12.5%\n",
      "Testing error is 11.764705882352944%\n",
      "----------Epoch 9----------\n",
      "Training loss: 0.4370877926166241\n",
      "Training error is 25.0%\n",
      "Testing error is 11.764705882352944%\n",
      "----------Epoch 10----------\n",
      "Training loss: 0.4268017319532541\n",
      "Training error is 12.5%\n",
      "Testing error is 35.29411764705882%\n",
      "----------Epoch 11----------\n",
      "Training loss: 0.4237530105389081\n",
      "Training error is 0.0%\n",
      "Testing error is 23.529411764705888%\n",
      "----------Epoch 12----------\n",
      "Training loss: 0.42365888219613296\n",
      "Training error is 12.5%\n",
      "Testing error is 11.764705882352944%\n",
      "----------Epoch 13----------\n",
      "Training loss: 0.4184047350516686\n",
      "Training error is 0.0%\n",
      "Testing error is 11.764705882352944%\n",
      "----------Epoch 14----------\n",
      "Training loss: 0.413847841322422\n",
      "Training error is 0.0%\n",
      "Testing error is 41.17647058823529%\n",
      "----------Epoch 15----------\n",
      "Training loss: 0.41828683534493816\n",
      "Training error is 12.5%\n",
      "Testing error is 29.411764705882348%\n",
      "----------Epoch 16----------\n",
      "Training loss: 0.4283276956814986\n",
      "Training error is 37.5%\n",
      "Testing error is 23.529411764705888%\n",
      "----------Epoch 17----------\n",
      "Training loss: 0.423006425683315\n",
      "Training error is 37.5%\n",
      "Testing error is 17.647058823529417%\n",
      "----------Epoch 18----------\n",
      "Training loss: 0.415512543458205\n",
      "Training error is 12.5%\n",
      "Testing error is 29.411764705882348%\n",
      "----------Epoch 19----------\n",
      "Training loss: 0.4171077345426266\n",
      "Training error is 12.5%\n",
      "Testing error is 23.529411764705888%\n",
      "----------Epoch 20----------\n",
      "Training loss: 0.4308234304189682\n",
      "Training error is 37.5%\n",
      "Testing error is 35.29411764705882%\n",
      "----------Epoch 21----------\n",
      "Training loss: 0.4121548533439636\n",
      "Training error is 12.5%\n",
      "Testing error is 5.882352941176472%\n",
      "----------Epoch 22----------\n",
      "Training loss: 0.4161016448185994\n",
      "Training error is 25.0%\n",
      "Testing error is 5.882352941176472%\n",
      "----------Epoch 23----------\n",
      "Training loss: 0.4083897035855513\n",
      "Training error is 0.0%\n",
      "Testing error is 17.647058823529417%\n",
      "----------Epoch 24----------\n",
      "Training loss: 0.4142916603730275\n",
      "Training error is 25.0%\n",
      "Testing error is 17.647058823529417%\n",
      "----------Epoch 25----------\n",
      "Training loss: 0.40303878084971356\n",
      "Training error is 0.0%\n",
      "Testing error is 23.529411764705888%\n",
      "----------Epoch 26----------\n",
      "Training loss: 0.4107377758392921\n",
      "Training error is 37.5%\n",
      "Testing error is 23.529411764705888%\n",
      "----------Epoch 27----------\n",
      "Training loss: 0.40953223178019893\n",
      "Training error is 25.0%\n",
      "Testing error is 35.29411764705882%\n",
      "----------Epoch 28----------\n",
      "Training loss: 0.40709144794023955\n",
      "Training error is 12.5%\n",
      "Testing error is 11.764705882352944%\n",
      "----------Epoch 29----------\n",
      "Training loss: 0.42210982969174016\n",
      "Training error is 50.0%\n",
      "Testing error is 41.17647058823529%\n",
      "----------Epoch 30----------\n",
      "Training loss: 0.4050435102902926\n",
      "Training error is 12.5%\n",
      "Testing error is 23.529411764705888%\n",
      "----------Epoch 31----------\n",
      "Training loss: 0.4247321429160925\n",
      "Training error is 37.5%\n",
      "Testing error is 23.529411764705888%\n",
      "----------Epoch 32----------\n",
      "Training loss: 0.3987357226701883\n",
      "Training error is 0.0%\n",
      "Testing error is 23.529411764705888%\n",
      "----------Epoch 33----------\n",
      "Training loss: 0.39924843265460086\n",
      "Training error is 25.0%\n",
      "Testing error is 23.529411764705888%\n",
      "----------Epoch 34----------\n",
      "Training loss: 0.4091996034750572\n",
      "Training error is 37.5%\n",
      "Testing error is 17.647058823529417%\n",
      "----------Epoch 35----------\n",
      "Training loss: 0.39150283170434147\n",
      "Training error is 0.0%\n",
      "Testing error is 23.529411764705888%\n",
      "----------Epoch 36----------\n",
      "Training loss: 0.4166640364206754\n",
      "Training error is 50.0%\n",
      "Testing error is 5.882352941176472%\n",
      "----------Epoch 37----------\n",
      "Training loss: 0.40341638257870305\n",
      "Training error is 25.0%\n",
      "Testing error is 29.411764705882348%\n",
      "----------Epoch 38----------\n",
      "Training loss: 0.4033324191203484\n",
      "Training error is 50.0%\n",
      "Testing error is 5.882352941176472%\n",
      "----------Epoch 39----------\n",
      "Training loss: 0.40684308684789217\n",
      "Training error is 50.0%\n",
      "Testing error is 11.764705882352944%\n",
      "----------Epoch 40----------\n",
      "Training loss: 0.4117756308271335\n",
      "Training error is 25.0%\n",
      "Testing error is 17.647058823529417%\n"
     ]
    },
    {
     "data": {
      "image/png": "[encoded data removed]",
      "text/plain": [
       "<Figure size 576x576 with 1 Axes>"
      ]
     },
     "metadata": {
      "needs_background": "light"
     },
     "output_type": "display_data"
    },
    {
     "data": {
      "image/png": "[encoded data removed]",
      "text/plain": [
       "<Figure size 576x576 with 1 Axes>"
      ]
     },
     "metadata": {
      "needs_background": "light"
     },
     "output_type": "display_data"
    },
    {
     "name": "stdout",
     "output_type": "stream",
     "text": [
      "mean training accuracy: 0.8   mean testing accuracy: 0.7911764705882353\n"
     ]
    }
   ],
   "source": [
    "trained_model2 = train_NN(model, epochs, trainloader2, testloader2,optimizer, criterion, activation=\"relu\")"
   ]
  },
  {
   "cell_type": "markdown",
   "metadata": {},
   "source": [
    "## Benzos"
   ]
  },
  {
   "cell_type": "code",
   "execution_count": 53,
   "metadata": {
    "scrolled": true
   },
   "outputs": [
    {
     "name": "stdout",
     "output_type": "stream",
     "text": [
      "Current setting: activation function for hidden layer:relu, activation function for output layer: Sigmoid.\n",
      "----------Epoch 1----------\n",
      "Training loss: 0.5775887129398493\n",
      "Training error is 12.5%\n",
      "Testing error is 5.882352941176472%\n",
      "----------Epoch 2----------\n",
      "Training loss: 0.46533477764863235\n",
      "Training error is 25.0%\n",
      "Testing error is 23.529411764705888%\n",
      "----------Epoch 3----------\n",
      "Training loss: 0.4677568536538344\n",
      "Training error is 12.5%\n",
      "Testing error is 5.882352941176472%\n",
      "----------Epoch 4----------\n",
      "Training loss: 0.46371163657078374\n",
      "Training error is 25.0%\n",
      "Testing error is 17.647058823529417%\n",
      "----------Epoch 5----------\n",
      "Training loss: 0.44430376360049617\n",
      "Training error is 12.5%\n",
      "Testing error is 11.764705882352944%\n",
      "----------Epoch 6----------\n",
      "Training loss: 0.45090752381544846\n",
      "Training error is 25.0%\n",
      "Testing error is 23.529411764705888%\n",
      "----------Epoch 7----------\n",
      "Training loss: 0.43852417858747333\n",
      "Training error is 0.0%\n",
      "Testing error is 17.647058823529417%\n",
      "----------Epoch 8----------\n",
      "Training loss: 0.44066687386769515\n",
      "Training error is 12.5%\n",
      "Testing error is 17.647058823529417%\n",
      "----------Epoch 9----------\n",
      "Training loss: 0.4361246789877231\n",
      "Training error is 25.0%\n",
      "Testing error is 11.764705882352944%\n",
      "----------Epoch 10----------\n",
      "Training loss: 0.4455744738762195\n",
      "Training error is 25.0%\n",
      "Testing error is 29.411764705882348%\n",
      "----------Epoch 11----------\n",
      "Training loss: 0.44146164105488706\n",
      "Training error is 12.5%\n",
      "Testing error is 23.529411764705888%\n",
      "----------Epoch 12----------\n",
      "Training loss: 0.4376501383689734\n",
      "Training error is 25.0%\n",
      "Testing error is 23.529411764705888%\n",
      "----------Epoch 13----------\n",
      "Training loss: 0.42867476091935086\n",
      "Training error is 12.5%\n",
      "Testing error is 11.764705882352944%\n",
      "----------Epoch 14----------\n",
      "Training loss: 0.4488778366492345\n",
      "Training error is 37.5%\n",
      "Testing error is 17.647058823529417%\n",
      "----------Epoch 15----------\n",
      "Training loss: 0.4336694685312418\n",
      "Training error is 25.0%\n",
      "Testing error is 11.764705882352944%\n",
      "----------Epoch 16----------\n",
      "Training loss: 0.4217491883497972\n",
      "Training error is 12.5%\n",
      "Testing error is 5.882352941176472%\n",
      "----------Epoch 17----------\n",
      "Training loss: 0.4313358355026979\n",
      "Training error is 37.5%\n",
      "Testing error is 23.529411764705888%\n",
      "----------Epoch 18----------\n",
      "Training loss: 0.4325343118264125\n",
      "Training error is 50.0%\n",
      "Testing error is 5.882352941176472%\n",
      "----------Epoch 19----------\n",
      "Training loss: 0.4245476493468651\n",
      "Training error is 12.5%\n",
      "Testing error is 23.529411764705888%\n",
      "----------Epoch 20----------\n",
      "Training loss: 0.4175325207985364\n",
      "Training error is 0.0%\n",
      "Testing error is 11.764705882352944%\n",
      "----------Epoch 21----------\n",
      "Training loss: 0.42666849608604723\n",
      "Training error is 37.5%\n",
      "Testing error is 17.647058823529417%\n",
      "----------Epoch 22----------\n",
      "Training loss: 0.42287188309889573\n",
      "Training error is 25.0%\n",
      "Testing error is 11.764705882352944%\n",
      "----------Epoch 23----------\n",
      "Training loss: 0.423385813832283\n",
      "Training error is 25.0%\n",
      "Testing error is 11.764705882352944%\n",
      "----------Epoch 24----------\n",
      "Training loss: 0.41154731466219974\n",
      "Training error is 0.0%\n",
      "Testing error is 5.882352941176472%\n",
      "----------Epoch 25----------\n",
      "Training loss: 0.41459307876917034\n",
      "Training error is 12.5%\n",
      "Testing error is 29.411764705882348%\n",
      "----------Epoch 26----------\n",
      "Training loss: 0.41929351137234616\n",
      "Training error is 25.0%\n",
      "Testing error is 17.647058823529417%\n",
      "----------Epoch 27----------\n",
      "Training loss: 0.42186399491933674\n",
      "Training error is 37.5%\n",
      "Testing error is 23.529411764705888%\n",
      "----------Epoch 28----------\n",
      "Training loss: 0.4126075219649535\n",
      "Training error is 12.5%\n",
      "Testing error is 23.529411764705888%\n",
      "----------Epoch 29----------\n",
      "Training loss: 0.4127867760566565\n",
      "Training error is 25.0%\n",
      "Testing error is 17.647058823529417%\n",
      "----------Epoch 30----------\n",
      "Training loss: 0.4051024759045014\n",
      "Training error is 12.5%\n",
      "Testing error is 17.647058823529417%\n",
      "----------Epoch 31----------\n",
      "Training loss: 0.40731729567050934\n",
      "Training error is 12.5%\n",
      "Testing error is 17.647058823529417%\n",
      "----------Epoch 32----------\n",
      "Training loss: 0.40167783544613767\n",
      "Training error is 0.0%\n",
      "Testing error is 35.29411764705882%\n",
      "----------Epoch 33----------\n",
      "Training loss: 0.4101837369111868\n",
      "Training error is 12.5%\n",
      "Testing error is 23.529411764705888%\n",
      "----------Epoch 34----------\n",
      "Training loss: 0.40969093487812924\n",
      "Training error is 25.0%\n",
      "Testing error is 11.764705882352944%\n",
      "----------Epoch 35----------\n",
      "Training loss: 0.40795770860635316\n",
      "Training error is 25.0%\n",
      "Testing error is 35.29411764705882%\n",
      "----------Epoch 36----------\n",
      "Training loss: 0.3922646578687888\n",
      "Training error is 0.0%\n",
      "Testing error is 5.882352941176472%\n",
      "----------Epoch 37----------\n",
      "Training loss: 0.40997245678534877\n",
      "Training error is 25.0%\n",
      "Testing error is 5.882352941176472%\n",
      "----------Epoch 38----------\n",
      "Training loss: 0.4198406625252504\n",
      "Training error is 25.0%\n",
      "Testing error is 17.647058823529417%\n",
      "----------Epoch 39----------\n",
      "Training loss: 0.3934012238795941\n",
      "Training error is 0.0%\n",
      "Testing error is 11.764705882352944%\n",
      "----------Epoch 40----------\n",
      "Training loss: 0.38984520045610577\n",
      "Training error is 0.0%\n",
      "Testing error is 17.647058823529417%\n"
     ]
    },
    {
     "data": {
      "image/png": "[encoded data removed]",
      "text/plain": [
       "<Figure size 576x576 with 1 Axes>"
      ]
     },
     "metadata": {
      "needs_background": "light"
     },
     "output_type": "display_data"
    },
    {
     "data": {
      "image/png": "[encoded data removed]",
      "text/plain": [
       "<Figure size 576x576 with 1 Axes>"
      ]
     },
     "metadata": {
      "needs_background": "light"
     },
     "output_type": "display_data"
    },
    {
     "name": "stdout",
     "output_type": "stream",
     "text": [
      "mean training accuracy: 0.815625   mean testing accuracy: 0.8294117647058823\n"
     ]
    }
   ],
   "source": [
    "trained_model3 = train_NN(model, epochs, trainloader3, testloader3,optimizer, criterion, activation=\"relu\")"
   ]
  },
  {
   "cell_type": "markdown",
   "metadata": {},
   "source": [
    "# Analysis "
   ]
  },
  {
   "cell_type": "markdown",
   "metadata": {},
   "source": [
    "## Within each modeling apporach \n",
    "### Logistic Regression"
   ]
  },
  {
   "cell_type": "code",
   "execution_count": 54,
   "metadata": {},
   "outputs": [
    {
     "data": {
      "image/png": "[encoded data removed]",
      "text/plain": [
       "<Figure size 576x576 with 1 Axes>"
      ]
     },
     "metadata": {
      "needs_background": "light"
     },
     "output_type": "display_data"
    }
   ],
   "source": [
    "#x-axis: each drug category \n",
    "x = ['Heroins', 'Ecstasies', 'Benzos']\n",
    "#the accuracy scores generate from above\n",
    "Test_scores = [0.8514588859416445,0.7877984084880637,0.8196286472148541]\n",
    "Train_scores = [0.8322281167108754,0.7877984084880637,0.76657824933687]\n",
    "\n",
    "X_axis = np.arange(len(x))\n",
    "\n",
    "#plot the bar \n",
    "plt.bar(X_axis - 0.2, Test_scores, 0.4, label = 'Test_Score')\n",
    "plt.bar(X_axis + 0.2, Train_scores, 0.4, label = 'Train_Score')\n",
    "\n",
    "\n",
    "plt.xticks(X_axis, x)\n",
    "\n",
    "#set limit to the y-axis\n",
    "plt.ylim(0.5,1)\n",
    "\n",
    "#label x and y \n",
    "plt.xlabel(\"Drug Categories\",fontsize = 12)\n",
    "plt.ylabel(\"Accuracy\", fontsize = 12)\n",
    "\n",
    "#add title \n",
    "plt.title(\"Accuracy in each predicting model using LR\", fontsize = 15)\n",
    "\n",
    "#plot the legend\n",
    "plt.legend()\n",
    "\n",
    "#set the size of the figure\n",
    "plt.gcf().set_size_inches(8, 8)\n",
    "\n"
   ]
  },
  {
   "cell_type": "markdown",
   "metadata": {},
   "source": [
    "## Support Vector Machine "
   ]
  },
  {
   "cell_type": "code",
   "execution_count": 55,
   "metadata": {},
   "outputs": [
    {
     "data": {
      "image/png": "[encoded data removed]",
      "text/plain": [
       "<Figure size 576x576 with 1 Axes>"
      ]
     },
     "metadata": {
      "needs_background": "light"
     },
     "output_type": "display_data"
    }
   ],
   "source": [
    "x = ['Heroins', 'Ecstasies', 'Benzos']\n",
    "    \n",
    "Test_scores = [0.8514588859416445,0.8037135278514589,0.8116710875331565]\n",
    "Train_scores = [0.8322281167108754,0.8050397877984085,0.7672413793103449]\n",
    "\n",
    "X_axis = np.arange(len(x))\n",
    "  \n",
    "plt.bar(X_axis - 0.2, Test_scores, 0.4, label = 'Test_Score')\n",
    "plt.bar(X_axis + 0.2, Train_scores, 0.4, label = 'Train_Score')\n",
    "\n",
    "plt.xticks(X_axis, x)\n",
    "plt.ylim(0.5,1)\n",
    "plt.xlabel(\"Drug Categories\",fontsize = 12)\n",
    "plt.ylabel(\"Accuracy\", fontsize = 12)\n",
    "plt.title(\"Accuracy in each predicting model using SVM\", fontsize = 15)\n",
    "plt.legend()\n",
    "plt.gcf().set_size_inches(8, 8)"
   ]
  },
  {
   "cell_type": "markdown",
   "metadata": {},
   "source": [
    "## Neural Network"
   ]
  },
  {
   "cell_type": "code",
   "execution_count": 56,
   "metadata": {},
   "outputs": [
    {
     "data": {
      "image/png": "[encoded data removed]",
      "text/plain": [
       "<Figure size 576x576 with 1 Axes>"
      ]
     },
     "metadata": {
      "needs_background": "light"
     },
     "output_type": "display_data"
    }
   ],
   "source": [
    "x = ['Heroins', 'Ecstasies', 'Benzos']\n",
    "    \n",
    "Test_scores = [0.8764705882352941,0.7573529411764706,0.7735294117647059]\n",
    "Train_scores = [0.825 ,0.78125,0.796875]\n",
    "\n",
    "X_axis = np.arange(len(x))\n",
    "  \n",
    "plt.bar(X_axis - 0.2, Test_scores, 0.4, label = 'Test_Score')\n",
    "plt.bar(X_axis + 0.2, Train_scores, 0.4, label = 'Train_Score')\n",
    "\n",
    "plt.xticks(X_axis, x)\n",
    "plt.ylim(0.5,1)\n",
    "plt.xlabel(\"Drug Categories\",fontsize = 12)\n",
    "plt.ylabel(\"Accuracy\", fontsize = 12)\n",
    "plt.title(\"Accuracy in each predicting model using NN\", fontsize = 15)\n",
    "plt.legend()\n",
    "plt.gcf().set_size_inches(8, 8)"
   ]
  },
  {
   "cell_type": "markdown",
   "metadata": {},
   "source": [
    "## Across each drug category"
   ]
  },
  {
   "cell_type": "markdown",
   "metadata": {},
   "source": [
    "### Heroins"
   ]
  },
  {
   "cell_type": "code",
   "execution_count": 57,
   "metadata": {},
   "outputs": [
    {
     "data": {
      "image/png": "[encoded data removed]",
      "text/plain": [
       "<Figure size 576x576 with 1 Axes>"
      ]
     },
     "metadata": {
      "needs_background": "light"
     },
     "output_type": "display_data"
    }
   ],
   "source": [
    "x = ['LR', 'SVM', 'NN']\n",
    "    \n",
    "Test_scores = [0.8514588859416445,0.8514588859416445,0.8352941176470587]\n",
    "Train_scores = [0.8322281167108754 ,0.8322281167108754,0.825 ]\n",
    "\n",
    "X_axis = np.arange(len(x))\n",
    "  \n",
    "plt.bar(X_axis - 0.2, Test_scores, 0.4, label = 'Test_Score')\n",
    "plt.bar(X_axis + 0.2, Train_scores, 0.4, label = 'Train_Score')\n",
    "\n",
    "plt.xticks(X_axis, x)\n",
    "plt.ylim(0.5,1)\n",
    "plt.xlabel(\"Modeling Approaches\",fontsize = 12)\n",
    "plt.ylabel(\"Accuracy\", fontsize = 12)\n",
    "plt.title(\"Accuracy in predicting Heroins by each modeling approach\", fontsize = 15)\n",
    "plt.legend()\n",
    "plt.gcf().set_size_inches(8, 8)"
   ]
  },
  {
   "cell_type": "markdown",
   "metadata": {},
   "source": [
    "### Ecstasies "
   ]
  },
  {
   "cell_type": "code",
   "execution_count": 58,
   "metadata": {},
   "outputs": [
    {
     "data": {
      "image/png": "[encoded data removed]",
      "text/plain": [
       "<Figure size 576x576 with 1 Axes>"
      ]
     },
     "metadata": {
      "needs_background": "light"
     },
     "output_type": "display_data"
    }
   ],
   "source": [
    "x = ['LR', 'SVM', 'NN']\n",
    "    \n",
    "Test_scores = [0.7877984084880637,0.8037135278514589,0.8220588235294117]\n",
    "Train_scores = [0.7877984084880637 ,0.8050397877984085,0.76875 ]\n",
    "\n",
    "X_axis = np.arange(len(x))\n",
    "  \n",
    "plt.bar(X_axis - 0.2, Test_scores, 0.4, label = 'Test_Score')\n",
    "plt.bar(X_axis + 0.2, Train_scores, 0.4, label = 'Train_Score')\n",
    "\n",
    "plt.xticks(X_axis, x)\n",
    "plt.ylim(0.5,1)\n",
    "plt.xlabel(\"Modeling Approaches\",fontsize = 12)\n",
    "plt.ylabel(\"Accuracy\", fontsize = 12)\n",
    "plt.title(\"Accuracy in predicting Ecstasies by each modeling approach\", fontsize = 15)\n",
    "plt.legend()\n",
    "plt.gcf().set_size_inches(8, 8)"
   ]
  },
  {
   "cell_type": "markdown",
   "metadata": {},
   "source": [
    "### Neural Network"
   ]
  },
  {
   "cell_type": "code",
   "execution_count": 59,
   "metadata": {},
   "outputs": [
    {
     "data": {
      "image/png": "[encoded data removed]",
      "text/plain": [
       "<Figure size 576x576 with 1 Axes>"
      ]
     },
     "metadata": {
      "needs_background": "light"
     },
     "output_type": "display_data"
    }
   ],
   "source": [
    "x = ['LR', 'SVM', 'NN']\n",
    "    \n",
    "Test_scores = [0.8196286472148541,0.8116710875331565,0.825]\n",
    "Train_scores = [ 0.76657824933687 ,0.7672413793103449,0.7875 ]\n",
    "\n",
    "X_axis = np.arange(len(x))\n",
    "  \n",
    "plt.bar(X_axis - 0.2, Test_scores, 0.4, label = 'Test_Score')\n",
    "plt.bar(X_axis + 0.2, Train_scores, 0.4, label = 'Train_Score')\n",
    "\n",
    "plt.xticks(X_axis, x)\n",
    "plt.ylim(0.5,1)\n",
    "plt.xlabel(\"Modeling Approaches\",fontsize = 12)\n",
    "plt.ylabel(\"Accuracy\", fontsize = 12)\n",
    "plt.title(\"Accuracy in predicting Benzos by each modeling approach\", fontsize = 15)\n",
    "plt.legend()\n",
    "plt.gcf().set_size_inches(8, 8)"
   ]
  },
  {
   "cell_type": "code",
   "execution_count": null,
   "metadata": {},
   "outputs": [],
   "source": []
  }
 ],
 "metadata": {
  "interpreter": {
   "hash": "40d3a090f54c6569ab1632332b64b2c03c39dcf918b08424e98f38b5ae0af88f"
  },
  "kernelspec": {
   "display_name": "Python 3",
   "language": "python",
   "name": "python3"
  },
  "language_info": {
   "codemirror_mode": {
    "name": "ipython",
    "version": 3
   },
   "file_extension": ".py",
   "mimetype": "text/x-python",
   "name": "python",
   "nbconvert_exporter": "python",
   "pygments_lexer": "ipython3",
   "version": "3.8.5"
  }
 },
 "nbformat": 4,
 "nbformat_minor": 2
}
